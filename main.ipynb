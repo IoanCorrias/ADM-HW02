{
 "cells": [
  {
   "cell_type": "markdown",
   "id": "1d4d0e65",
   "metadata": {},
   "source": [
    "# Homework 2 - Instagram Profiles & Posts"
   ]
  },
  {
   "cell_type": "code",
   "execution_count": 1,
   "id": "1fb59c4d",
   "metadata": {},
   "outputs": [],
   "source": [
    "# Imports\n",
    "import pandas as pd\n",
    "import numpy as np\n",
    "import matplotlib.pylab as plt\n",
    "import seaborn as sns\n",
    "\n",
    "from collections import Counter\n",
    "import pickle\n",
    "from tqdm import tqdm"
   ]
  },
  {
   "cell_type": "markdown",
   "id": "b0dc5e8f",
   "metadata": {},
   "source": [
    "### [RQ1] After collecting information, the Data Scientists have to know what dataset they are dealing with, so let's start with an Exploratory Data Analysis (EDA). What can you say about our datasets? Please summarise its main characteristics with visual and tabular methods."
   ]
  },
  {
   "cell_type": "markdown",
   "id": "ce5e5852",
   "metadata": {},
   "source": [
    "#### EDA - Profiles"
   ]
  },
  {
   "cell_type": "code",
   "execution_count": 2,
   "id": "5b617002",
   "metadata": {},
   "outputs": [],
   "source": [
    "profiles = pd.read_csv('data/instagram_profiles.zip', sep='\\t')"
   ]
  },
  {
   "cell_type": "code",
   "execution_count": 3,
   "id": "99429cb2",
   "metadata": {},
   "outputs": [
    {
     "name": "stdout",
     "output_type": "stream",
     "text": [
      "Profiles data shape: (4509586, 11)\n"
     ]
    }
   ],
   "source": [
    "print(f'Profiles data shape: {profiles.shape}')"
   ]
  },
  {
   "cell_type": "code",
   "execution_count": 4,
   "id": "fc8a2a94",
   "metadata": {},
   "outputs": [
    {
     "name": "stdout",
     "output_type": "stream",
     "text": [
      "Profiles columns: sid, profile_id, profile_name, firstname_lastname, description, following, followers, n_posts, url, cts, is_business_account\n"
     ]
    }
   ],
   "source": [
    "print(f'Profiles columns: {\", \".join(list(profiles.columns))}')"
   ]
  },
  {
   "cell_type": "code",
   "execution_count": 5,
   "id": "959248c5",
   "metadata": {},
   "outputs": [
    {
     "name": "stdout",
     "output_type": "stream",
     "text": [
      "Unique values: \n",
      "sid: True\n",
      "profile_id: False\n",
      "profile_name: False\n",
      "firstname_lastname: False\n",
      "description: False\n",
      "following: False\n",
      "followers: False\n",
      "n_posts: False\n",
      "url: False\n",
      "cts: False\n",
      "is_business_account: False\n"
     ]
    }
   ],
   "source": [
    "# Check which columns are unique\n",
    "print('Unique values: ')\n",
    "\n",
    "for col in profiles.columns:\n",
    "    print(f'{col}: {profiles[col].is_unique}')"
   ]
  },
  {
   "cell_type": "markdown",
   "id": "485f0675",
   "metadata": {},
   "source": [
    "Note: since profile_id is not unique we could have multiple snapshots for the same profile."
   ]
  },
  {
   "cell_type": "code",
   "execution_count": 6,
   "id": "780702ff",
   "metadata": {},
   "outputs": [
    {
     "data": {
      "text/html": [
       "<div>\n",
       "<style scoped>\n",
       "    .dataframe tbody tr th:only-of-type {\n",
       "        vertical-align: middle;\n",
       "    }\n",
       "\n",
       "    .dataframe tbody tr th {\n",
       "        vertical-align: top;\n",
       "    }\n",
       "\n",
       "    .dataframe thead th {\n",
       "        text-align: right;\n",
       "    }\n",
       "</style>\n",
       "<table border=\"1\" class=\"dataframe\">\n",
       "  <thead>\n",
       "    <tr style=\"text-align: right;\">\n",
       "      <th></th>\n",
       "      <th>sid</th>\n",
       "      <th>profile_id</th>\n",
       "      <th>following</th>\n",
       "      <th>followers</th>\n",
       "      <th>n_posts</th>\n",
       "    </tr>\n",
       "  </thead>\n",
       "  <tbody>\n",
       "    <tr>\n",
       "      <th>count</th>\n",
       "      <td>4.509586e+06</td>\n",
       "      <td>4.477139e+06</td>\n",
       "      <td>3.452771e+06</td>\n",
       "      <td>3.452771e+06</td>\n",
       "      <td>3.452771e+06</td>\n",
       "    </tr>\n",
       "    <tr>\n",
       "      <th>mean</th>\n",
       "      <td>2.255992e+06</td>\n",
       "      <td>3.083302e+09</td>\n",
       "      <td>1.405641e+03</td>\n",
       "      <td>4.739899e+03</td>\n",
       "      <td>4.095414e+02</td>\n",
       "    </tr>\n",
       "    <tr>\n",
       "      <th>std</th>\n",
       "      <td>1.301807e+06</td>\n",
       "      <td>4.266575e+10</td>\n",
       "      <td>8.113473e+03</td>\n",
       "      <td>1.939087e+05</td>\n",
       "      <td>1.041940e+03</td>\n",
       "    </tr>\n",
       "    <tr>\n",
       "      <th>min</th>\n",
       "      <td>1.186000e+03</td>\n",
       "      <td>4.000000e+00</td>\n",
       "      <td>0.000000e+00</td>\n",
       "      <td>0.000000e+00</td>\n",
       "      <td>0.000000e+00</td>\n",
       "    </tr>\n",
       "    <tr>\n",
       "      <th>25%</th>\n",
       "      <td>1.128596e+06</td>\n",
       "      <td>2.735177e+08</td>\n",
       "      <td>3.560000e+02</td>\n",
       "      <td>1.590000e+02</td>\n",
       "      <td>2.200000e+01</td>\n",
       "    </tr>\n",
       "    <tr>\n",
       "      <th>50%</th>\n",
       "      <td>2.255992e+06</td>\n",
       "      <td>1.649248e+09</td>\n",
       "      <td>7.540000e+02</td>\n",
       "      <td>4.060000e+02</td>\n",
       "      <td>1.200000e+02</td>\n",
       "    </tr>\n",
       "    <tr>\n",
       "      <th>75%</th>\n",
       "      <td>3.383389e+06</td>\n",
       "      <td>5.514691e+09</td>\n",
       "      <td>1.573000e+03</td>\n",
       "      <td>9.740000e+02</td>\n",
       "      <td>4.200000e+02</td>\n",
       "    </tr>\n",
       "    <tr>\n",
       "      <th>max</th>\n",
       "      <td>4.510785e+06</td>\n",
       "      <td>9.001013e+13</td>\n",
       "      <td>4.191080e+06</td>\n",
       "      <td>2.854576e+08</td>\n",
       "      <td>1.837300e+05</td>\n",
       "    </tr>\n",
       "  </tbody>\n",
       "</table>\n",
       "</div>"
      ],
      "text/plain": [
       "                sid    profile_id     following     followers       n_posts\n",
       "count  4.509586e+06  4.477139e+06  3.452771e+06  3.452771e+06  3.452771e+06\n",
       "mean   2.255992e+06  3.083302e+09  1.405641e+03  4.739899e+03  4.095414e+02\n",
       "std    1.301807e+06  4.266575e+10  8.113473e+03  1.939087e+05  1.041940e+03\n",
       "min    1.186000e+03  4.000000e+00  0.000000e+00  0.000000e+00  0.000000e+00\n",
       "25%    1.128596e+06  2.735177e+08  3.560000e+02  1.590000e+02  2.200000e+01\n",
       "50%    2.255992e+06  1.649248e+09  7.540000e+02  4.060000e+02  1.200000e+02\n",
       "75%    3.383389e+06  5.514691e+09  1.573000e+03  9.740000e+02  4.200000e+02\n",
       "max    4.510785e+06  9.001013e+13  4.191080e+06  2.854576e+08  1.837300e+05"
      ]
     },
     "execution_count": 6,
     "metadata": {},
     "output_type": "execute_result"
    }
   ],
   "source": [
    "profiles.describe()"
   ]
  },
  {
   "cell_type": "code",
   "execution_count": 7,
   "id": "add27c0e",
   "metadata": {},
   "outputs": [],
   "source": [
    "# Drop irrelevant features\n",
    "profiles = profiles.drop(['sid', 'firstname_lastname', 'description', 'url'], axis=1)"
   ]
  },
  {
   "cell_type": "code",
   "execution_count": 8,
   "id": "7395be75",
   "metadata": {},
   "outputs": [
    {
     "name": "stdout",
     "output_type": "stream",
     "text": [
      "NA for profile_id: 32447 / 4509586\n",
      "NA for profile_name: 0 / 4509586\n",
      "NA for following: 1056815 / 4509586\n",
      "NA for followers: 1056815 / 4509586\n",
      "NA for n_posts: 1056815 / 4509586\n",
      "NA for cts: 438488 / 4509586\n",
      "NA for is_business_account: 1064263 / 4509586\n"
     ]
    }
   ],
   "source": [
    "# Check NA values\n",
    "for col in profiles.columns:\n",
    "    print(f'NA for {col}: {sum(profiles[col].isna())} / {len(profiles)}')"
   ]
  },
  {
   "cell_type": "code",
   "execution_count": 9,
   "id": "c29db683",
   "metadata": {},
   "outputs": [],
   "source": [
    "# Replace na values for the number of following, followers, posts and set the false default value for the flag is_business account\n",
    "profiles['following'].fillna(0, inplace=True)\n",
    "profiles['followers'].fillna(0, inplace=True)\n",
    "profiles['n_posts'].fillna(0, inplace=True)\n",
    "profiles['is_business_account'].fillna(False, inplace=True)"
   ]
  },
  {
   "cell_type": "code",
   "execution_count": 10,
   "id": "1474492a",
   "metadata": {},
   "outputs": [],
   "source": [
    "# Drop all other na values\n",
    "profiles = profiles.dropna()"
   ]
  },
  {
   "cell_type": "code",
   "execution_count": 11,
   "id": "9b35f19a",
   "metadata": {},
   "outputs": [
    {
     "name": "stdout",
     "output_type": "stream",
     "text": [
      "Profile ids are still not unique!\n"
     ]
    }
   ],
   "source": [
    "# Unfortunately we still have duplicated ids\n",
    "if profiles['profile_id'].is_unique:\n",
    "    print('Profile ids are now unique')\n",
    "else:\n",
    "    print('Profile ids are still not unique!')"
   ]
  },
  {
   "cell_type": "code",
   "execution_count": 12,
   "id": "e14f1cef",
   "metadata": {},
   "outputs": [],
   "source": [
    "# To get unique profile ids we select the profiles with the latest cts value\n",
    "profiles = profiles.sort_values('cts', ascending=False).drop_duplicates('profile_id')"
   ]
  },
  {
   "cell_type": "code",
   "execution_count": 13,
   "id": "6b25d9cd",
   "metadata": {},
   "outputs": [
    {
     "name": "stdout",
     "output_type": "stream",
     "text": [
      "Profile ids are now unique\n"
     ]
    }
   ],
   "source": [
    "if profiles['profile_id'].is_unique:\n",
    "    print('Profile ids are now unique')\n",
    "else:\n",
    "    print('Profile ids are still not unique!')"
   ]
  },
  {
   "cell_type": "code",
   "execution_count": 14,
   "id": "d4e3c405",
   "metadata": {},
   "outputs": [
    {
     "name": "stdout",
     "output_type": "stream",
     "text": [
      "Profiles data shape: (4037872, 7)\n"
     ]
    },
    {
     "data": {
      "text/html": [
       "<div>\n",
       "<style scoped>\n",
       "    .dataframe tbody tr th:only-of-type {\n",
       "        vertical-align: middle;\n",
       "    }\n",
       "\n",
       "    .dataframe tbody tr th {\n",
       "        vertical-align: top;\n",
       "    }\n",
       "\n",
       "    .dataframe thead th {\n",
       "        text-align: right;\n",
       "    }\n",
       "</style>\n",
       "<table border=\"1\" class=\"dataframe\">\n",
       "  <thead>\n",
       "    <tr style=\"text-align: right;\">\n",
       "      <th></th>\n",
       "      <th>profile_id</th>\n",
       "      <th>profile_name</th>\n",
       "      <th>following</th>\n",
       "      <th>followers</th>\n",
       "      <th>n_posts</th>\n",
       "      <th>cts</th>\n",
       "      <th>is_business_account</th>\n",
       "    </tr>\n",
       "  </thead>\n",
       "  <tbody>\n",
       "    <tr>\n",
       "      <th>326832</th>\n",
       "      <td>2.144905e+07</td>\n",
       "      <td>kseniya_gl</td>\n",
       "      <td>435.0</td>\n",
       "      <td>641.0</td>\n",
       "      <td>415.0</td>\n",
       "      <td>2019-08-19 02:00:53.514 -0400</td>\n",
       "      <td>False</td>\n",
       "    </tr>\n",
       "    <tr>\n",
       "      <th>326833</th>\n",
       "      <td>1.738514e+09</td>\n",
       "      <td>svejk_restaurant</td>\n",
       "      <td>6266.0</td>\n",
       "      <td>5508.0</td>\n",
       "      <td>697.0</td>\n",
       "      <td>2019-08-19 02:00:45.830 -0400</td>\n",
       "      <td>True</td>\n",
       "    </tr>\n",
       "    <tr>\n",
       "      <th>326820</th>\n",
       "      <td>1.181472e+10</td>\n",
       "      <td>eduard_bayrit</td>\n",
       "      <td>78.0</td>\n",
       "      <td>46.0</td>\n",
       "      <td>13.0</td>\n",
       "      <td>2019-08-19 02:00:18.459 -0400</td>\n",
       "      <td>False</td>\n",
       "    </tr>\n",
       "    <tr>\n",
       "      <th>326831</th>\n",
       "      <td>2.895151e+08</td>\n",
       "      <td>zheka_bonda</td>\n",
       "      <td>649.0</td>\n",
       "      <td>429.0</td>\n",
       "      <td>2421.0</td>\n",
       "      <td>2019-08-19 02:00:17.692 -0400</td>\n",
       "      <td>False</td>\n",
       "    </tr>\n",
       "    <tr>\n",
       "      <th>326830</th>\n",
       "      <td>5.023732e+08</td>\n",
       "      <td>chic_chic_vlg</td>\n",
       "      <td>1497.0</td>\n",
       "      <td>9426.0</td>\n",
       "      <td>6720.0</td>\n",
       "      <td>2019-08-19 01:59:59.902 -0400</td>\n",
       "      <td>True</td>\n",
       "    </tr>\n",
       "  </tbody>\n",
       "</table>\n",
       "</div>"
      ],
      "text/plain": [
       "          profile_id      profile_name  following  followers  n_posts  \\\n",
       "326832  2.144905e+07        kseniya_gl      435.0      641.0    415.0   \n",
       "326833  1.738514e+09  svejk_restaurant     6266.0     5508.0    697.0   \n",
       "326820  1.181472e+10     eduard_bayrit       78.0       46.0     13.0   \n",
       "326831  2.895151e+08       zheka_bonda      649.0      429.0   2421.0   \n",
       "326830  5.023732e+08     chic_chic_vlg     1497.0     9426.0   6720.0   \n",
       "\n",
       "                                  cts  is_business_account  \n",
       "326832  2019-08-19 02:00:53.514 -0400                False  \n",
       "326833  2019-08-19 02:00:45.830 -0400                 True  \n",
       "326820  2019-08-19 02:00:18.459 -0400                False  \n",
       "326831  2019-08-19 02:00:17.692 -0400                False  \n",
       "326830  2019-08-19 01:59:59.902 -0400                 True  "
      ]
     },
     "execution_count": 14,
     "metadata": {},
     "output_type": "execute_result"
    }
   ],
   "source": [
    "# Note: let's check how the shape of the dataset has changed\n",
    "print(f'Profiles data shape: {profiles.shape}')\n",
    "\n",
    "profiles.head()"
   ]
  },
  {
   "cell_type": "code",
   "execution_count": 15,
   "id": "286d8059",
   "metadata": {},
   "outputs": [
    {
     "data": {
      "text/plain": [
       "<AxesSubplot:>"
      ]
     },
     "execution_count": 15,
     "metadata": {},
     "output_type": "execute_result"
    },
    {
     "data": {
      "image/png": "[encoded data removed]",
      "text/plain": [
       "<Figure size 432x288 with 2 Axes>"
      ]
     },
     "metadata": {
      "needs_background": "light"
     },
     "output_type": "display_data"
    }
   ],
   "source": [
    "# Now let's see if there are some correlations between profile's features\n",
    "corr = profiles[['following', 'followers', 'n_posts', 'is_business_account']].corr()\n",
    "\n",
    "sns.heatmap(corr, xticklabels=corr.columns, yticklabels=corr.columns, annot=True, cmap=sns.diverging_palette(220, 20, as_cmap=True))"
   ]
  },
  {
   "cell_type": "markdown",
   "id": "7cbaec6e",
   "metadata": {},
   "source": [
    "It seems to be no correlation between the columns of our table."
   ]
  },
  {
   "cell_type": "markdown",
   "id": "f872d1f3",
   "metadata": {},
   "source": [
    "#### EDA - Locations "
   ]
  },
  {
   "cell_type": "code",
   "execution_count": 16,
   "id": "50b5e89d",
   "metadata": {},
   "outputs": [],
   "source": [
    "locations = pd.read_csv('data/instagram_locations.zip', sep='\\t')"
   ]
  },
  {
   "cell_type": "code",
   "execution_count": 17,
   "id": "ae6323cb",
   "metadata": {},
   "outputs": [
    {
     "name": "stdout",
     "output_type": "stream",
     "text": [
      "Locations data shape: (1022658, 23)\n"
     ]
    }
   ],
   "source": [
    "print(f'Locations data shape: {locations.shape}')"
   ]
  },
  {
   "cell_type": "code",
   "execution_count": 18,
   "id": "7388d8a5",
   "metadata": {},
   "outputs": [
    {
     "name": "stdout",
     "output_type": "stream",
     "text": [
      "Locations columns: sid, id, name, street, zip, city, region, cd, phone, aj_exact_city_match, aj_exact_country_match, blurb, dir_city_id, dir_city_name, dir_city_slug, dir_country_id, dir_country_name, lat, lng, primary_alias_on_fb, slug, website, cts\n"
     ]
    }
   ],
   "source": [
    "print(f'Locations columns: {\", \".join(list(locations.columns))}')"
   ]
  },
  {
   "cell_type": "code",
   "execution_count": 19,
   "id": "0a80d748",
   "metadata": {},
   "outputs": [
    {
     "name": "stdout",
     "output_type": "stream",
     "text": [
      "Unique values: \n",
      "sid: True\n",
      "id: True\n",
      "name: False\n",
      "street: False\n",
      "zip: False\n",
      "city: False\n",
      "region: False\n",
      "cd: False\n",
      "phone: False\n",
      "aj_exact_city_match: False\n",
      "aj_exact_country_match: False\n",
      "blurb: False\n",
      "dir_city_id: False\n",
      "dir_city_name: False\n",
      "dir_city_slug: False\n",
      "dir_country_id: False\n",
      "dir_country_name: False\n",
      "lat: False\n",
      "lng: False\n",
      "primary_alias_on_fb: False\n",
      "slug: False\n",
      "website: False\n",
      "cts: False\n"
     ]
    }
   ],
   "source": [
    "# Check which columns are unique\n",
    "print('Unique values: ')\n",
    "\n",
    "for col in locations.columns:\n",
    "    print(f'{col}: {locations[col].is_unique}')"
   ]
  },
  {
   "cell_type": "code",
   "execution_count": 20,
   "id": "4252ba50",
   "metadata": {},
   "outputs": [
    {
     "name": "stdout",
     "output_type": "stream",
     "text": [
      "<class 'pandas.core.frame.DataFrame'>\n",
      "RangeIndex: 1022658 entries, 0 to 1022657\n",
      "Data columns (total 23 columns):\n",
      " #   Column                  Non-Null Count    Dtype  \n",
      "---  ------                  --------------    -----  \n",
      " 0   sid                     1022658 non-null  int64  \n",
      " 1   id                      1022658 non-null  int64  \n",
      " 2   name                    1022658 non-null  object \n",
      " 3   street                  715704 non-null   object \n",
      " 4   zip                     715579 non-null   object \n",
      " 5   city                    937166 non-null   object \n",
      " 6   region                  1760 non-null     object \n",
      " 7   cd                      939010 non-null   object \n",
      " 8   phone                   601688 non-null   object \n",
      " 9   aj_exact_city_match     1000510 non-null  object \n",
      " 10  aj_exact_country_match  1000510 non-null  object \n",
      " 11  blurb                   406705 non-null   object \n",
      " 12  dir_city_id             495698 non-null   object \n",
      " 13  dir_city_name           495698 non-null   object \n",
      " 14  dir_city_slug           495221 non-null   object \n",
      " 15  dir_country_id          495628 non-null   object \n",
      " 16  dir_country_name        495698 non-null   object \n",
      " 17  lat                     1016495 non-null  float64\n",
      " 18  lng                     1016495 non-null  float64\n",
      " 19  primary_alias_on_fb     425531 non-null   object \n",
      " 20  slug                    941668 non-null   object \n",
      " 21  website                 623262 non-null   object \n",
      " 22  cts                     1022658 non-null  object \n",
      "dtypes: float64(2), int64(2), object(19)\n",
      "memory usage: 179.5+ MB\n"
     ]
    }
   ],
   "source": [
    "locations.info()"
   ]
  },
  {
   "cell_type": "code",
   "execution_count": 21,
   "id": "18777d11",
   "metadata": {},
   "outputs": [],
   "source": [
    "# Drop irrelevant features\n",
    "locations = locations.drop(['sid', 'phone', 'aj_exact_city_match', 'aj_exact_country_match', \n",
    "                            'blurb', 'dir_city_id', 'dir_city_name', 'dir_city_slug', 'dir_country_id', \n",
    "                            'dir_country_name', 'primary_alias_on_fb', 'slug', 'website', 'cts'], axis=1)"
   ]
  },
  {
   "cell_type": "code",
   "execution_count": 22,
   "id": "3809c6c5",
   "metadata": {},
   "outputs": [
    {
     "name": "stdout",
     "output_type": "stream",
     "text": [
      "NA for id: 0 / 1022658\n",
      "NA for name: 0 / 1022658\n",
      "NA for street: 306954 / 1022658\n",
      "NA for zip: 307079 / 1022658\n",
      "NA for city: 85492 / 1022658\n",
      "NA for region: 1020898 / 1022658\n",
      "NA for cd: 83648 / 1022658\n",
      "NA for lat: 6163 / 1022658\n",
      "NA for lng: 6163 / 1022658\n"
     ]
    }
   ],
   "source": [
    "# Check NA values\n",
    "for col in locations.columns:\n",
    "    print(f'NA for {col}: {sum(locations[col].isna())} / {len(locations)}')"
   ]
  },
  {
   "cell_type": "code",
   "execution_count": 23,
   "id": "6414b034",
   "metadata": {},
   "outputs": [],
   "source": [
    "# Replacing NA values for street, zip, city, region and cd\n",
    "locations['street'].fillna('', inplace=True)\n",
    "locations['zip'].fillna('', inplace=True)\n",
    "locations['city'].fillna('', inplace=True)\n",
    "locations['region'].fillna('', inplace=True)\n",
    "locations['cd'].fillna('', inplace=True)"
   ]
  },
  {
   "cell_type": "code",
   "execution_count": 24,
   "id": "fece952a",
   "metadata": {},
   "outputs": [
    {
     "name": "stdout",
     "output_type": "stream",
     "text": [
      "Locations data shape: (1022658, 9)\n"
     ]
    },
    {
     "data": {
      "text/html": [
       "<div>\n",
       "<style scoped>\n",
       "    .dataframe tbody tr th:only-of-type {\n",
       "        vertical-align: middle;\n",
       "    }\n",
       "\n",
       "    .dataframe tbody tr th {\n",
       "        vertical-align: top;\n",
       "    }\n",
       "\n",
       "    .dataframe thead th {\n",
       "        text-align: right;\n",
       "    }\n",
       "</style>\n",
       "<table border=\"1\" class=\"dataframe\">\n",
       "  <thead>\n",
       "    <tr style=\"text-align: right;\">\n",
       "      <th></th>\n",
       "      <th>id</th>\n",
       "      <th>name</th>\n",
       "      <th>street</th>\n",
       "      <th>zip</th>\n",
       "      <th>city</th>\n",
       "      <th>region</th>\n",
       "      <th>cd</th>\n",
       "      <th>lat</th>\n",
       "      <th>lng</th>\n",
       "    </tr>\n",
       "  </thead>\n",
       "  <tbody>\n",
       "    <tr>\n",
       "      <th>0</th>\n",
       "      <td>110296492939207</td>\n",
       "      <td>Playa de Daimuz - Valencia, España</td>\n",
       "      <td></td>\n",
       "      <td></td>\n",
       "      <td></td>\n",
       "      <td></td>\n",
       "      <td></td>\n",
       "      <td>-0.139475</td>\n",
       "      <td>38.974391</td>\n",
       "    </tr>\n",
       "    <tr>\n",
       "      <th>1</th>\n",
       "      <td>274391278</td>\n",
       "      <td>Nová Vieska</td>\n",
       "      <td></td>\n",
       "      <td></td>\n",
       "      <td>Nová Vieska</td>\n",
       "      <td></td>\n",
       "      <td>SK</td>\n",
       "      <td>18.466667</td>\n",
       "      <td>47.866667</td>\n",
       "    </tr>\n",
       "    <tr>\n",
       "      <th>2</th>\n",
       "      <td>148885595789195</td>\n",
       "      <td>Everest Today</td>\n",
       "      <td>Himalayas</td>\n",
       "      <td>+977</td>\n",
       "      <td>Kathmandu, Nepal</td>\n",
       "      <td></td>\n",
       "      <td>NP</td>\n",
       "      <td>85.330150</td>\n",
       "      <td>27.701960</td>\n",
       "    </tr>\n",
       "    <tr>\n",
       "      <th>3</th>\n",
       "      <td>263258277</td>\n",
       "      <td>BULAC - Bibliothèque universitaire des langues...</td>\n",
       "      <td>65, rue des Grands-Moulins</td>\n",
       "      <td>75013</td>\n",
       "      <td>Paris, France</td>\n",
       "      <td></td>\n",
       "      <td>FR</td>\n",
       "      <td>2.375995</td>\n",
       "      <td>48.827240</td>\n",
       "    </tr>\n",
       "    <tr>\n",
       "      <th>4</th>\n",
       "      <td>406147529857708</td>\n",
       "      <td>ABC Cable Networks Group</td>\n",
       "      <td>3800 W Alameda Ave</td>\n",
       "      <td>91505</td>\n",
       "      <td>Burbank, California</td>\n",
       "      <td></td>\n",
       "      <td>US</td>\n",
       "      <td>-118.341864</td>\n",
       "      <td>34.153265</td>\n",
       "    </tr>\n",
       "  </tbody>\n",
       "</table>\n",
       "</div>"
      ],
      "text/plain": [
       "                id                                               name  \\\n",
       "0  110296492939207                 Playa de Daimuz - Valencia, España   \n",
       "1        274391278                                        Nová Vieska   \n",
       "2  148885595789195                                      Everest Today   \n",
       "3        263258277  BULAC - Bibliothèque universitaire des langues...   \n",
       "4  406147529857708                           ABC Cable Networks Group   \n",
       "\n",
       "                       street    zip                 city region  cd  \\\n",
       "0                                                                      \n",
       "1                                             Nová Vieska         SK   \n",
       "2                   Himalayas   +977     Kathmandu, Nepal         NP   \n",
       "3  65, rue des Grands-Moulins  75013        Paris, France         FR   \n",
       "4          3800 W Alameda Ave  91505  Burbank, California         US   \n",
       "\n",
       "          lat        lng  \n",
       "0   -0.139475  38.974391  \n",
       "1   18.466667  47.866667  \n",
       "2   85.330150  27.701960  \n",
       "3    2.375995  48.827240  \n",
       "4 -118.341864  34.153265  "
      ]
     },
     "execution_count": 24,
     "metadata": {},
     "output_type": "execute_result"
    }
   ],
   "source": [
    "# Note: let's check how the shape of the dataset has changed\n",
    "print(f'Locations data shape: {locations.shape}')\n",
    "\n",
    "locations.head()"
   ]
  },
  {
   "cell_type": "markdown",
   "id": "64c4fe26",
   "metadata": {},
   "source": [
    "Since the location dataset is just a lookup table to geocalize posts there is no point trying to find correlation between its features."
   ]
  },
  {
   "cell_type": "markdown",
   "id": "393625b6",
   "metadata": {},
   "source": [
    "#### EDA - Posts"
   ]
  },
  {
   "cell_type": "code",
   "execution_count": 27,
   "id": "99913b72",
   "metadata": {},
   "outputs": [
    {
     "name": "stderr",
     "output_type": "stream",
     "text": [
      "86it [05:19,  3.71s/it]\n"
     ]
    }
   ],
   "source": [
    "# Since this dataset it too large we will use a sample to performe exploratory analysis\n",
    "posts_sample = pd.DataFrame()\n",
    "\n",
    "for chunk in tqdm(pd.read_csv('data/instagram_posts.zip', sep='\\t', chunksize=500000)):\n",
    "    posts_sample = pd.concat([posts_sample, chunk[:5]])"
   ]
  },
  {
   "cell_type": "code",
   "execution_count": 28,
   "id": "cf35f2e0",
   "metadata": {},
   "outputs": [],
   "source": [
    "# Pickle dataframe\n",
    "posts_sample.to_pickle(\"./pickles/posts_sample.pkl\")"
   ]
  },
  {
   "cell_type": "code",
   "execution_count": null,
   "id": "aacd6252",
   "metadata": {},
   "outputs": [],
   "source": [
    "# Read dataframe from pickle\n",
    "posts_sample = pd.read_pickle(\"./pickles/posts_sample.pkl\")  "
   ]
  },
  {
   "cell_type": "code",
   "execution_count": 29,
   "id": "ee2cfbd2",
   "metadata": {},
   "outputs": [
    {
     "name": "stdout",
     "output_type": "stream",
     "text": [
      "Posts sample data shape: (430, 10)\n"
     ]
    }
   ],
   "source": [
    "print(f'Posts sample data shape: {posts_sample.shape}')"
   ]
  },
  {
   "cell_type": "code",
   "execution_count": 30,
   "id": "a0ce8b49",
   "metadata": {},
   "outputs": [
    {
     "name": "stdout",
     "output_type": "stream",
     "text": [
      "Posts columns: sid, sid_profile, post_id, profile_id, location_id, cts, post_type, description, numbr_likes, number_comments\n"
     ]
    }
   ],
   "source": [
    "print(f'Posts columns: {\", \".join(list(posts_sample.columns))}')"
   ]
  },
  {
   "cell_type": "code",
   "execution_count": 31,
   "id": "6bf328aa",
   "metadata": {},
   "outputs": [
    {
     "data": {
      "text/html": [
       "<div>\n",
       "<style scoped>\n",
       "    .dataframe tbody tr th:only-of-type {\n",
       "        vertical-align: middle;\n",
       "    }\n",
       "\n",
       "    .dataframe tbody tr th {\n",
       "        vertical-align: top;\n",
       "    }\n",
       "\n",
       "    .dataframe thead th {\n",
       "        text-align: right;\n",
       "    }\n",
       "</style>\n",
       "<table border=\"1\" class=\"dataframe\">\n",
       "  <thead>\n",
       "    <tr style=\"text-align: right;\">\n",
       "      <th></th>\n",
       "      <th>sid</th>\n",
       "      <th>sid_profile</th>\n",
       "      <th>profile_id</th>\n",
       "      <th>location_id</th>\n",
       "      <th>post_type</th>\n",
       "      <th>numbr_likes</th>\n",
       "      <th>number_comments</th>\n",
       "    </tr>\n",
       "  </thead>\n",
       "  <tbody>\n",
       "    <tr>\n",
       "      <th>count</th>\n",
       "      <td>4.300000e+02</td>\n",
       "      <td>4.300000e+02</td>\n",
       "      <td>4.060000e+02</td>\n",
       "      <td>3.090000e+02</td>\n",
       "      <td>430.000000</td>\n",
       "      <td>430.000000</td>\n",
       "      <td>430.000000</td>\n",
       "    </tr>\n",
       "    <tr>\n",
       "      <th>mean</th>\n",
       "      <td>2.164603e+07</td>\n",
       "      <td>1.564128e+06</td>\n",
       "      <td>2.783811e+09</td>\n",
       "      <td>3.478339e+14</td>\n",
       "      <td>1.032558</td>\n",
       "      <td>98.679070</td>\n",
       "      <td>3.932558</td>\n",
       "    </tr>\n",
       "    <tr>\n",
       "      <th>std</th>\n",
       "      <td>1.218386e+07</td>\n",
       "      <td>1.623560e+06</td>\n",
       "      <td>3.251416e+09</td>\n",
       "      <td>6.461377e+14</td>\n",
       "      <td>0.177684</td>\n",
       "      <td>205.961114</td>\n",
       "      <td>7.612872</td>\n",
       "    </tr>\n",
       "    <tr>\n",
       "      <th>min</th>\n",
       "      <td>7.324400e+04</td>\n",
       "      <td>-1.000000e+00</td>\n",
       "      <td>5.502060e+05</td>\n",
       "      <td>5.368000e+04</td>\n",
       "      <td>1.000000</td>\n",
       "      <td>1.000000</td>\n",
       "      <td>0.000000</td>\n",
       "    </tr>\n",
       "    <tr>\n",
       "      <th>25%</th>\n",
       "      <td>1.138816e+07</td>\n",
       "      <td>-1.000000e+00</td>\n",
       "      <td>2.646028e+08</td>\n",
       "      <td>2.365960e+08</td>\n",
       "      <td>1.000000</td>\n",
       "      <td>15.000000</td>\n",
       "      <td>0.000000</td>\n",
       "    </tr>\n",
       "    <tr>\n",
       "      <th>50%</th>\n",
       "      <td>2.163622e+07</td>\n",
       "      <td>1.046737e+06</td>\n",
       "      <td>1.482156e+09</td>\n",
       "      <td>5.396627e+08</td>\n",
       "      <td>1.000000</td>\n",
       "      <td>42.000000</td>\n",
       "      <td>1.000000</td>\n",
       "    </tr>\n",
       "    <tr>\n",
       "      <th>75%</th>\n",
       "      <td>3.192472e+07</td>\n",
       "      <td>3.345948e+06</td>\n",
       "      <td>4.523706e+09</td>\n",
       "      <td>3.545914e+14</td>\n",
       "      <td>1.000000</td>\n",
       "      <td>104.750000</td>\n",
       "      <td>4.000000</td>\n",
       "    </tr>\n",
       "    <tr>\n",
       "      <th>max</th>\n",
       "      <td>4.306760e+07</td>\n",
       "      <td>4.474973e+06</td>\n",
       "      <td>1.273958e+10</td>\n",
       "      <td>2.049464e+15</td>\n",
       "      <td>2.000000</td>\n",
       "      <td>3160.000000</td>\n",
       "      <td>79.000000</td>\n",
       "    </tr>\n",
       "  </tbody>\n",
       "</table>\n",
       "</div>"
      ],
      "text/plain": [
       "                sid   sid_profile    profile_id   location_id   post_type  \\\n",
       "count  4.300000e+02  4.300000e+02  4.060000e+02  3.090000e+02  430.000000   \n",
       "mean   2.164603e+07  1.564128e+06  2.783811e+09  3.478339e+14    1.032558   \n",
       "std    1.218386e+07  1.623560e+06  3.251416e+09  6.461377e+14    0.177684   \n",
       "min    7.324400e+04 -1.000000e+00  5.502060e+05  5.368000e+04    1.000000   \n",
       "25%    1.138816e+07 -1.000000e+00  2.646028e+08  2.365960e+08    1.000000   \n",
       "50%    2.163622e+07  1.046737e+06  1.482156e+09  5.396627e+08    1.000000   \n",
       "75%    3.192472e+07  3.345948e+06  4.523706e+09  3.545914e+14    1.000000   \n",
       "max    4.306760e+07  4.474973e+06  1.273958e+10  2.049464e+15    2.000000   \n",
       "\n",
       "       numbr_likes  number_comments  \n",
       "count   430.000000       430.000000  \n",
       "mean     98.679070         3.932558  \n",
       "std     205.961114         7.612872  \n",
       "min       1.000000         0.000000  \n",
       "25%      15.000000         0.000000  \n",
       "50%      42.000000         1.000000  \n",
       "75%     104.750000         4.000000  \n",
       "max    3160.000000        79.000000  "
      ]
     },
     "execution_count": 31,
     "metadata": {},
     "output_type": "execute_result"
    }
   ],
   "source": [
    "posts_sample.describe()"
   ]
  },
  {
   "cell_type": "markdown",
   "id": "dce7df50",
   "metadata": {},
   "source": [
    "### [RQ2] Let's explore the dataset by finding simple insights regarding the profile and posts."
   ]
  },
  {
   "cell_type": "markdown",
   "id": "e860ea1e",
   "metadata": {},
   "source": [
    "- Plot the number of posts for each profile in descending order."
   ]
  },
  {
   "cell_type": "code",
   "execution_count": 48,
   "id": "af694ae1",
   "metadata": {},
   "outputs": [
    {
     "data": {
      "text/plain": [
       "count    4.037872e+06\n",
       "mean     3.230900e+02\n",
       "std      9.123781e+02\n",
       "min      0.000000e+00\n",
       "25%      2.000000e+00\n",
       "50%      6.200000e+01\n",
       "75%      3.090000e+02\n",
       "max      1.837300e+05\n",
       "Name: n_posts, dtype: float64"
      ]
     },
     "execution_count": 48,
     "metadata": {},
     "output_type": "execute_result"
    }
   ],
   "source": [
    "profiles['n_posts'].describe()"
   ]
  },
  {
   "cell_type": "code",
   "execution_count": 26,
   "id": "d42afef1",
   "metadata": {},
   "outputs": [
    {
     "data": {
      "text/plain": [
       "<AxesSubplot:ylabel='Frequency'>"
      ]
     },
     "execution_count": 26,
     "metadata": {},
     "output_type": "execute_result"
    },
    {
     "data": {
      "image/png": "[encoded data removed]",
      "text/plain": [
       "<Figure size 432x288 with 1 Axes>"
      ]
     },
     "metadata": {
      "needs_background": "light"
     },
     "output_type": "display_data"
    }
   ],
   "source": [
    "# Since there are some extremely high values we plot the 99 quantile of the profile dataset\n",
    "q = profiles[\"n_posts\"].quantile(0.99)\n",
    "\n",
    "profiles[profiles[\"n_posts\"] < q].sort_values('n_posts', ascending=False)['n_posts'].plot(kind='hist')"
   ]
  },
  {
   "cell_type": "markdown",
   "id": "6b51b790",
   "metadata": {},
   "source": [
    "- What posts have the highest number of \"likes\"?"
   ]
  },
  {
   "cell_type": "code",
   "execution_count": 26,
   "id": "9ee0b56a",
   "metadata": {},
   "outputs": [
    {
     "name": "stderr",
     "output_type": "stream",
     "text": [
      "86it [20:52, 14.57s/it]\n"
     ]
    }
   ],
   "source": [
    "most_liked_posts = pd.DataFrame(columns=['post_id', 'numbr_likes'])\n",
    "\n",
    "for chunk in tqdm(pd.read_csv('data/instagram_posts.zip',\n",
    "                              sep='\\t', chunksize=500000,\n",
    "                              usecols=['post_id', 'numbr_likes'])):\n",
    "\n",
    "    # Get for each chunk the top 10 liked posts\n",
    "    chunk_top = chunk.sort_values(by='numbr_likes', ascending=False).head(10)\n",
    "    \n",
    "    most_liked_posts = pd.concat([most_liked_posts, chunk_top])"
   ]
  },
  {
   "cell_type": "code",
   "execution_count": 27,
   "id": "49fcdca4",
   "metadata": {},
   "outputs": [
    {
     "data": {
      "text/html": [
       "<div>\n",
       "<style scoped>\n",
       "    .dataframe tbody tr th:only-of-type {\n",
       "        vertical-align: middle;\n",
       "    }\n",
       "\n",
       "    .dataframe tbody tr th {\n",
       "        vertical-align: top;\n",
       "    }\n",
       "\n",
       "    .dataframe thead th {\n",
       "        text-align: right;\n",
       "    }\n",
       "</style>\n",
       "<table border=\"1\" class=\"dataframe\">\n",
       "  <thead>\n",
       "    <tr style=\"text-align: right;\">\n",
       "      <th></th>\n",
       "      <th>post_id</th>\n",
       "      <th>numbr_likes</th>\n",
       "    </tr>\n",
       "  </thead>\n",
       "  <tbody>\n",
       "    <tr>\n",
       "      <th>19624085</th>\n",
       "      <td>Bt3yaXmAM0d</td>\n",
       "      <td>8822952.0</td>\n",
       "    </tr>\n",
       "    <tr>\n",
       "      <th>19623988</th>\n",
       "      <td>BuwffB7g8cK</td>\n",
       "      <td>5447066.0</td>\n",
       "    </tr>\n",
       "    <tr>\n",
       "      <th>19624082</th>\n",
       "      <td>Buc1gyZAaMQ</td>\n",
       "      <td>5116398.0</td>\n",
       "    </tr>\n",
       "    <tr>\n",
       "      <th>19623986</th>\n",
       "      <td>BvcukE8AMuG</td>\n",
       "      <td>4271466.0</td>\n",
       "    </tr>\n",
       "    <tr>\n",
       "      <th>39701024</th>\n",
       "      <td>BqSLFVBFLfq</td>\n",
       "      <td>4264745</td>\n",
       "    </tr>\n",
       "    <tr>\n",
       "      <th>6293907</th>\n",
       "      <td>BwTSXBKg7gN</td>\n",
       "      <td>3586546</td>\n",
       "    </tr>\n",
       "    <tr>\n",
       "      <th>19624086</th>\n",
       "      <td>Btw8pFXAvQm</td>\n",
       "      <td>3558599.0</td>\n",
       "    </tr>\n",
       "    <tr>\n",
       "      <th>19802016</th>\n",
       "      <td>BvC3n6_gqin</td>\n",
       "      <td>3533326.0</td>\n",
       "    </tr>\n",
       "    <tr>\n",
       "      <th>30850564</th>\n",
       "      <td>Bw7vqLrFkHi</td>\n",
       "      <td>3340297</td>\n",
       "    </tr>\n",
       "    <tr>\n",
       "      <th>39812576</th>\n",
       "      <td>Bw2gTH1AiDA</td>\n",
       "      <td>3311246</td>\n",
       "    </tr>\n",
       "  </tbody>\n",
       "</table>\n",
       "</div>"
      ],
      "text/plain": [
       "              post_id numbr_likes\n",
       "19624085  Bt3yaXmAM0d   8822952.0\n",
       "19623988  BuwffB7g8cK   5447066.0\n",
       "19624082  Buc1gyZAaMQ   5116398.0\n",
       "19623986  BvcukE8AMuG   4271466.0\n",
       "39701024  BqSLFVBFLfq     4264745\n",
       "6293907   BwTSXBKg7gN     3586546\n",
       "19624086  Btw8pFXAvQm   3558599.0\n",
       "19802016  BvC3n6_gqin   3533326.0\n",
       "30850564  Bw7vqLrFkHi     3340297\n",
       "39812576  Bw2gTH1AiDA     3311246"
      ]
     },
     "execution_count": 27,
     "metadata": {},
     "output_type": "execute_result"
    }
   ],
   "source": [
    "# Show the top 10 liked posts\n",
    "most_liked_posts.sort_values(by='numbr_likes', ascending=False).head(10)"
   ]
  },
  {
   "cell_type": "markdown",
   "id": "dc3dc968",
   "metadata": {},
   "source": [
    "- What posts have the most and the least number of comments?"
   ]
  },
  {
   "cell_type": "code",
   "execution_count": 28,
   "id": "f305f351",
   "metadata": {},
   "outputs": [
    {
     "name": "stderr",
     "output_type": "stream",
     "text": [
      "86it [03:25,  2.39s/it]\n"
     ]
    }
   ],
   "source": [
    "most_commented_posts = pd.DataFrame(columns=['post_id', 'number_comments'])\n",
    "least_commented_posts = pd.DataFrame(columns=['post_id', 'number_comments'])\n",
    "\n",
    "for chunk in tqdm(pd.read_csv('data/instagram_posts.zip',\n",
    "                              sep='\\t', chunksize=500000,\n",
    "                              usecols=['post_id', 'number_comments'])):\n",
    "\n",
    "    sorted_chunk = chunk.sort_values(by='number_comments', ascending=False)\n",
    "    chunk_top = sorted_chunk[:10]\n",
    "    chunk_bottom = sorted_chunk[-10:]\n",
    "    \n",
    "    most_commented_posts = pd.concat([most_commented_posts, chunk_top])\n",
    "    least_commented_posts = pd.concat([least_commented_posts, chunk_bottom])"
   ]
  },
  {
   "cell_type": "code",
   "execution_count": 29,
   "id": "ee193695",
   "metadata": {},
   "outputs": [
    {
     "data": {
      "text/html": [
       "<div>\n",
       "<style scoped>\n",
       "    .dataframe tbody tr th:only-of-type {\n",
       "        vertical-align: middle;\n",
       "    }\n",
       "\n",
       "    .dataframe tbody tr th {\n",
       "        vertical-align: top;\n",
       "    }\n",
       "\n",
       "    .dataframe thead th {\n",
       "        text-align: right;\n",
       "    }\n",
       "</style>\n",
       "<table border=\"1\" class=\"dataframe\">\n",
       "  <thead>\n",
       "    <tr style=\"text-align: right;\">\n",
       "      <th></th>\n",
       "      <th>post_id</th>\n",
       "      <th>number_comments</th>\n",
       "    </tr>\n",
       "  </thead>\n",
       "  <tbody>\n",
       "    <tr>\n",
       "      <th>41873060</th>\n",
       "      <td>Bx2sPAjHviO</td>\n",
       "      <td>488953</td>\n",
       "    </tr>\n",
       "    <tr>\n",
       "      <th>12164781</th>\n",
       "      <td>BuGjhWAhAW5</td>\n",
       "      <td>313997</td>\n",
       "    </tr>\n",
       "    <tr>\n",
       "      <th>33261751</th>\n",
       "      <td>BJ-rkpTgn1N</td>\n",
       "      <td>257488</td>\n",
       "    </tr>\n",
       "    <tr>\n",
       "      <th>11149127</th>\n",
       "      <td>BMtisIxjhtT</td>\n",
       "      <td>214365</td>\n",
       "    </tr>\n",
       "    <tr>\n",
       "      <th>9383817</th>\n",
       "      <td>BzOOWj3DfZK</td>\n",
       "      <td>189888</td>\n",
       "    </tr>\n",
       "    <tr>\n",
       "      <th>5427268</th>\n",
       "      <td>BoQoM-JFkPA</td>\n",
       "      <td>180635</td>\n",
       "    </tr>\n",
       "    <tr>\n",
       "      <th>25257169</th>\n",
       "      <td>Bwarws1lCok</td>\n",
       "      <td>173988</td>\n",
       "    </tr>\n",
       "    <tr>\n",
       "      <th>6220011</th>\n",
       "      <td>Bt4qlVDAZMH</td>\n",
       "      <td>170836</td>\n",
       "    </tr>\n",
       "    <tr>\n",
       "      <th>31689573</th>\n",
       "      <td>Bs9NhQkAcJA</td>\n",
       "      <td>166919</td>\n",
       "    </tr>\n",
       "    <tr>\n",
       "      <th>14257307</th>\n",
       "      <td>Bzqb95QI_1E</td>\n",
       "      <td>166198</td>\n",
       "    </tr>\n",
       "  </tbody>\n",
       "</table>\n",
       "</div>"
      ],
      "text/plain": [
       "              post_id number_comments\n",
       "41873060  Bx2sPAjHviO          488953\n",
       "12164781  BuGjhWAhAW5          313997\n",
       "33261751  BJ-rkpTgn1N          257488\n",
       "11149127  BMtisIxjhtT          214365\n",
       "9383817   BzOOWj3DfZK          189888\n",
       "5427268   BoQoM-JFkPA          180635\n",
       "25257169  Bwarws1lCok          173988\n",
       "6220011   Bt4qlVDAZMH          170836\n",
       "31689573  Bs9NhQkAcJA          166919\n",
       "14257307  Bzqb95QI_1E          166198"
      ]
     },
     "execution_count": 29,
     "metadata": {},
     "output_type": "execute_result"
    }
   ],
   "source": [
    "most_commented_posts.sort_values(by='number_comments', ascending=False).head(10)"
   ]
  },
  {
   "cell_type": "code",
   "execution_count": 30,
   "id": "0e98ec30",
   "metadata": {},
   "outputs": [
    {
     "data": {
      "text/html": [
       "<div>\n",
       "<style scoped>\n",
       "    .dataframe tbody tr th:only-of-type {\n",
       "        vertical-align: middle;\n",
       "    }\n",
       "\n",
       "    .dataframe tbody tr th {\n",
       "        vertical-align: top;\n",
       "    }\n",
       "\n",
       "    .dataframe thead th {\n",
       "        text-align: right;\n",
       "    }\n",
       "</style>\n",
       "<table border=\"1\" class=\"dataframe\">\n",
       "  <thead>\n",
       "    <tr style=\"text-align: right;\">\n",
       "      <th></th>\n",
       "      <th>post_id</th>\n",
       "      <th>number_comments</th>\n",
       "    </tr>\n",
       "  </thead>\n",
       "  <tbody>\n",
       "    <tr>\n",
       "      <th>77502</th>\n",
       "      <td>BxR8xjHAdCt</td>\n",
       "      <td>0</td>\n",
       "    </tr>\n",
       "    <tr>\n",
       "      <th>28820509</th>\n",
       "      <td>BozrU3zhSZo</td>\n",
       "      <td>0</td>\n",
       "    </tr>\n",
       "    <tr>\n",
       "      <th>28820510</th>\n",
       "      <td>BozrCIdBZz-</td>\n",
       "      <td>0</td>\n",
       "    </tr>\n",
       "    <tr>\n",
       "      <th>28820511</th>\n",
       "      <td>BozqzWAhfxO</td>\n",
       "      <td>0</td>\n",
       "    </tr>\n",
       "    <tr>\n",
       "      <th>28601677</th>\n",
       "      <td>BwayM3CHjiy</td>\n",
       "      <td>0</td>\n",
       "    </tr>\n",
       "    <tr>\n",
       "      <th>28601674</th>\n",
       "      <td>BwillN1nGn3</td>\n",
       "      <td>0</td>\n",
       "    </tr>\n",
       "    <tr>\n",
       "      <th>28601673</th>\n",
       "      <td>BwqA8lpH9Ir</td>\n",
       "      <td>0</td>\n",
       "    </tr>\n",
       "    <tr>\n",
       "      <th>28820519</th>\n",
       "      <td>BwwanZ-FFA3</td>\n",
       "      <td>0</td>\n",
       "    </tr>\n",
       "    <tr>\n",
       "      <th>28601671</th>\n",
       "      <td>BwxiDNNnGXl</td>\n",
       "      <td>0</td>\n",
       "    </tr>\n",
       "    <tr>\n",
       "      <th>28601670</th>\n",
       "      <td>BxI4V_DnDPH</td>\n",
       "      <td>0</td>\n",
       "    </tr>\n",
       "  </tbody>\n",
       "</table>\n",
       "</div>"
      ],
      "text/plain": [
       "              post_id number_comments\n",
       "77502     BxR8xjHAdCt               0\n",
       "28820509  BozrU3zhSZo               0\n",
       "28820510  BozrCIdBZz-               0\n",
       "28820511  BozqzWAhfxO               0\n",
       "28601677  BwayM3CHjiy               0\n",
       "28601674  BwillN1nGn3               0\n",
       "28601673  BwqA8lpH9Ir               0\n",
       "28820519  BwwanZ-FFA3               0\n",
       "28601671  BwxiDNNnGXl               0\n",
       "28601670  BxI4V_DnDPH               0"
      ]
     },
     "execution_count": 30,
     "metadata": {},
     "output_type": "execute_result"
    }
   ],
   "source": [
    "least_commented_posts.sort_values(by='number_comments').head(10)"
   ]
  },
  {
   "cell_type": "markdown",
   "id": "204403d1",
   "metadata": {},
   "source": [
    "- How many posts include tagged locations, and how many do not? Show it using an appropriate chart and comment your results."
   ]
  },
  {
   "cell_type": "code",
   "execution_count": 31,
   "id": "5de20523",
   "metadata": {},
   "outputs": [
    {
     "name": "stderr",
     "output_type": "stream",
     "text": [
      "86it [03:18,  2.31s/it]\n"
     ]
    }
   ],
   "source": [
    "nan_location_count = 0\n",
    "posts_count = 0\n",
    "\n",
    "for chunk in tqdm(pd.read_csv('data/instagram_posts.zip',\n",
    "                              sep='\\t', chunksize=500000,\n",
    "                              usecols=['post_id', 'location_id'])):\n",
    "\n",
    "    nan_location_count += chunk['location_id'].isnull().sum()\n",
    "    posts_count += len(chunk)"
   ]
  },
  {
   "cell_type": "code",
   "execution_count": 33,
   "id": "577b9d55",
   "metadata": {},
   "outputs": [
    {
     "data": {
      "image/png": "[encoded data removed]",
      "text/plain": [
       "<Figure size 432x288 with 1 Axes>"
      ]
     },
     "metadata": {},
     "output_type": "display_data"
    }
   ],
   "source": [
    "# Pie chart\n",
    "labels = ['No location', 'With location']\n",
    "sizes = [nan_location_count, posts_count - nan_location_count]\n",
    "\n",
    "fig1, ax1 = plt.subplots()\n",
    "ax1.pie(sizes, labels=labels, autopct='%1.1f%%', shadow=True, startangle=90)\n",
    "ax1.axis('equal')\n",
    "plt.show()"
   ]
  },
  {
   "cell_type": "markdown",
   "id": "b3b9561b",
   "metadata": {},
   "source": [
    "As we can see from the pie chart, most of the posts are geolocalized."
   ]
  },
  {
   "cell_type": "markdown",
   "id": "551e112f",
   "metadata": {},
   "source": [
    "- How many posts include only photos? How many also have videos?"
   ]
  },
  {
   "cell_type": "code",
   "execution_count": 34,
   "id": "69b511e0",
   "metadata": {},
   "outputs": [
    {
     "name": "stderr",
     "output_type": "stream",
     "text": [
      "86it [03:20,  2.34s/it]\n"
     ]
    }
   ],
   "source": [
    "type_counter = Counter()\n",
    "\n",
    "for chunk in tqdm(pd.read_csv('data/instagram_posts.zip',\n",
    "                              sep='\\t', chunksize=500000,\n",
    "                              usecols=['post_id', 'post_type'])):\n",
    "\n",
    "    c = Counter(chunk['post_type'])\n",
    "\n",
    "    type_counter = sum([type_counter, c], Counter())"
   ]
  },
  {
   "cell_type": "code",
   "execution_count": 36,
   "id": "ab06017a",
   "metadata": {},
   "outputs": [
    {
     "data": {
      "image/png": "[encoded data removed]",
      "text/plain": [
       "<Figure size 432x288 with 1 Axes>"
      ]
     },
     "metadata": {
      "needs_background": "light"
     },
     "output_type": "display_data"
    }
   ],
   "source": [
    "# Bar chart\n",
    "labels = ['Photo', 'Video', 'Multy'] # From the kaggle description of the dataset we know that: 1 - Photo, 2 - Video, 3 - multy\n",
    "sizes = [type_counter[1], type_counter[2], type_counter[3]]\n",
    "\n",
    "plt.bar(labels, sizes, width = 0.5)\n",
    "plt.show()"
   ]
  },
  {
   "cell_type": "markdown",
   "id": "5af2245a",
   "metadata": {},
   "source": [
    "- What's the percentage of business accounts vs non-business? What can you interpret regarding that percentage?"
   ]
  },
  {
   "cell_type": "code",
   "execution_count": 37,
   "id": "eab4964c",
   "metadata": {},
   "outputs": [],
   "source": [
    "# Since we have a flag we can sum up all the values of the column is_business_account\n",
    "business_profiles_count = sum(profiles['is_business_account'])"
   ]
  },
  {
   "cell_type": "code",
   "execution_count": 42,
   "id": "14ba3ffc",
   "metadata": {},
   "outputs": [
    {
     "name": "stdout",
     "output_type": "stream",
     "text": [
      "The percentage of business accounts is 20.0 %\n",
      "While the percentage of non-business accounts is 80.0 %\n"
     ]
    }
   ],
   "source": [
    "print(f'The percentage of business accounts is {round(business_profiles_count/len(profiles), 2) * 100} %')\n",
    "print(f'While the percentage of non-business accounts is {round(1 -(business_profiles_count/len(profiles)), 2) * 100} %')"
   ]
  },
  {
   "cell_type": "markdown",
   "id": "4a039a9e",
   "metadata": {},
   "source": [
    "As we could except the number of business accounts is lower, in particular its proportion with the total number of users reminds the Pareto distribution."
   ]
  },
  {
   "cell_type": "markdown",
   "id": "48a4986f",
   "metadata": {},
   "source": [
    "### [RQ3] Now it's important to understand the most common times in which users publish their posts\n",
    "\n"
   ]
  },
  {
   "cell_type": "markdown",
   "id": "5ff46b4a",
   "metadata": {},
   "source": [
    "- What is the most common time in which users publish their posts?"
   ]
  },
  {
   "cell_type": "code",
   "execution_count": null,
   "id": "94b01fdf",
   "metadata": {},
   "outputs": [],
   "source": [
    "most_common_hour_counter = Counter()\n",
    "\n",
    "for chunk in tqdm(pd.read_csv('data/instagram_posts.zip',\n",
    "                              sep='\\t', chunksize=500000,\n",
    "                              usecols=['post_id', 'cts'])):\n",
    "\n",
    "    # Drop na values for cts\n",
    "    chunk = chunk.dropna(subset=['cts'])\n",
    "    \n",
    "    # Create a column to save only the hour\n",
    "    chunk['hour'] =  pd.to_datetime(chunk['cts']).dt.hour \n",
    "    \n",
    "    # Save the hour data into a counter\n",
    "    c = Counter(chunk['hour'])\n",
    "    \n",
    "    most_common_hour_counter = sum([most_common_hour_counter, c], Counter())"
   ]
  },
  {
   "cell_type": "code",
   "execution_count": 51,
   "id": "05898aea",
   "metadata": {},
   "outputs": [
    {
     "data": {
      "text/plain": [
       "[(19, 2499758)]"
      ]
     },
     "execution_count": 51,
     "metadata": {},
     "output_type": "execute_result"
    }
   ],
   "source": [
    "most_common_hour_counter.most_common(1)"
   ]
  },
  {
   "cell_type": "code",
   "execution_count": 53,
   "id": "aa5abb5e",
   "metadata": {},
   "outputs": [
    {
     "data": {
      "image/png": "[encoded data removed]",
      "text/plain": [
       "<Figure size 432x288 with 1 Axes>"
      ]
     },
     "metadata": {
      "needs_background": "light"
     },
     "output_type": "display_data"
    }
   ],
   "source": [
    "# To get a better picture we can plot all data from our counter\n",
    "labels = list(most_common_hour_counter.keys())\n",
    "sizes = list(most_common_hour_counter.values())\n",
    "\n",
    "plt.bar(labels, sizes)\n",
    "plt.show()"
   ]
  },
  {
   "cell_type": "markdown",
   "id": "aeb4b4f4",
   "metadata": {},
   "source": [
    "The number of posts published increases during the day, starting at 6 with a peak at 19, and decreases during the night."
   ]
  },
  {
   "cell_type": "markdown",
   "id": "a54be061",
   "metadata": {},
   "source": [
    "- Create a function that receives a time intervals list as a parameter and returns a plot with the number of posts for each given interval."
   ]
  },
  {
   "cell_type": "code",
   "execution_count": 47,
   "id": "80879a2f",
   "metadata": {},
   "outputs": [],
   "source": [
    "def find_post_in_range(time_intervals):\n",
    "    \n",
    "    # To plot the desired result we'll create a dict where the keys represents the bins of the plot and the values their associated counts\n",
    "    posts_for_interval = {}\n",
    "        \n",
    "    for chunk in tqdm(pd.read_csv('data/instagram_posts.zip',\n",
    "                                      sep='\\t', chunksize=500000,\n",
    "                                      usecols=['post_id', 'cts'])):\n",
    "        \n",
    "        chunk = chunk.dropna(subset=['cts'])\n",
    "        \n",
    "        chunk['hour'] =  pd.to_datetime(chunk['cts']).dt.hour\n",
    "\n",
    "        counter = Counter(chunk['hour'])\n",
    "            \n",
    "        for interval in time_intervals:\n",
    "            n_posts = 0\n",
    "            \n",
    "            for hour in counter:\n",
    "                # If the hour is between the interval we sum the number of post to n_posts\n",
    "                if interval[0] <= hour < interval[1]:\n",
    "                    n_posts += counter[hour]\n",
    "        \n",
    "            # If the key already exists we increment the number of posts, otherwise we initialize the value to 0\n",
    "            if f'{interval[0]}-{interval[1]}' in posts_for_interval.keys():\n",
    "                posts_for_interval[f'{interval[0]}-{interval[1]}'] += n_posts\n",
    "            else:\n",
    "                posts_for_interval[f'{interval[0]}-{interval[1]}'] = 0\n",
    "\n",
    "    return posts_for_interval    "
   ]
  },
  {
   "cell_type": "markdown",
   "id": "96aafe45",
   "metadata": {},
   "source": [
    "- Use the function that you created in the previous literal to plot the number of posts between the following time intervals: <br>\n",
    "06:00:00 - 10:59:59 <br>\n",
    "11:00:00 - 13:59:59 <br>\n",
    "14:00:00 - 16:59:59 <br>\n",
    "17:00:00 - 19:59:59 <br>\n",
    "20:00:00 - 23:59:59 <br>\n",
    "00:00:00 - 02:59:59 <br>\n",
    "03:00:00 - 05:59:59 <br>"
   ]
  },
  {
   "cell_type": "code",
   "execution_count": null,
   "id": "519bf5e0",
   "metadata": {},
   "outputs": [],
   "source": [
    "time_intervals = [[6, 11], [11, 14], [17, 20], [20, 24], [0, 3], [3, 6]]\n",
    "hist = find_post_in_range(time_intervals)"
   ]
  },
  {
   "cell_type": "code",
   "execution_count": 56,
   "id": "39d48f82",
   "metadata": {},
   "outputs": [
    {
     "data": {
      "image/png": "[encoded data removed]",
      "text/plain": [
       "<Figure size 432x288 with 1 Axes>"
      ]
     },
     "metadata": {
      "needs_background": "light"
     },
     "output_type": "display_data"
    }
   ],
   "source": [
    "plt.bar(list(hist.keys()), list(hist.values()))\n",
    "plt.show()"
   ]
  },
  {
   "cell_type": "markdown",
   "id": "ca067747",
   "metadata": {},
   "source": [
    "### [RQ4] In most cases, we will not have a consistent dataset, and the one we are dealing with is not an exception (ex. in the given datasets, you may not find the information of the profiles for some of the posts). So let’s enhance our analysis."
   ]
  },
  {
   "cell_type": "markdown",
   "id": "dc748a62",
   "metadata": {},
   "source": [
    "- Write a function that, given a profile_id, will be able to return the posts that belong to the given profile_id."
   ]
  },
  {
   "cell_type": "code",
   "execution_count": 87,
   "id": "1fcf6bad",
   "metadata": {},
   "outputs": [],
   "source": [
    "def get_profile_posts(profile_id):\n",
    "    profile_posts = pd.DataFrame(columns=['post_id', 'profile_id', 'numbr_likes', 'number_comments', 'cts'])\n",
    "    \n",
    "    for chunk in tqdm(pd.read_csv('data/instagram_posts.zip',\n",
    "                                      sep='\\t', chunksize=500000,\n",
    "                                      usecols=['post_id', 'profile_id', 'numbr_likes', 'number_comments', 'cts'])):\n",
    "\n",
    "        profile_rows = chunk.loc[chunk['profile_id'] == profile_id]\n",
    "        profile_posts = pd.concat([profile_posts, profile_rows])\n",
    "    \n",
    "    return profile_posts"
   ]
  },
  {
   "cell_type": "markdown",
   "id": "576bcb6a",
   "metadata": {},
   "source": [
    "- Write another function that, given an input n (an integer), will return the posts that belong to the n top posted profiles (top n profiles that have posted the highest number of posts) that their data is available in the profile.csv using the previously written function."
   ]
  },
  {
   "cell_type": "code",
   "execution_count": 88,
   "id": "622422ac",
   "metadata": {},
   "outputs": [],
   "source": [
    "def get_top_profiles_posts(n):\n",
    "    \n",
    "    top_posts = pd.DataFrame(columns=['post_id', 'profile_id', 'numbr_likes', 'number_comments', 'cts'])\n",
    "    \n",
    "    # Get top n profiles from the profiles dataset\n",
    "    top_profiles = profiles.sort_values('n_posts', ascending=False)[:n]\n",
    "    \n",
    "    # Use the get_profile_posts() function to extract posts of interest\n",
    "    for profile_id in top_profiles['profile_id']:\n",
    "        top_posts = pd.concat([top_posts, get_profile_posts(profile_id)])\n",
    "    \n",
    "    return top_posts"
   ]
  },
  {
   "cell_type": "markdown",
   "id": "f485da5e",
   "metadata": {},
   "source": [
    "- What is the average number of \"likes\" and comments of the top 10 profiles with the highest number of posts which their information is available in profile.csv?"
   ]
  },
  {
   "cell_type": "code",
   "execution_count": 89,
   "id": "d164481f",
   "metadata": {},
   "outputs": [
    {
     "name": "stderr",
     "output_type": "stream",
     "text": [
      "86it [03:43,  2.60s/it]\n",
      "86it [03:43,  2.60s/it]\n",
      "86it [03:41,  2.58s/it]\n",
      "86it [03:40,  2.56s/it]\n",
      "86it [03:41,  2.57s/it]\n",
      "86it [03:43,  2.60s/it]\n",
      "86it [03:40,  2.56s/it]\n",
      "86it [03:39,  2.56s/it]\n",
      "86it [03:39,  2.55s/it]\n",
      "86it [03:39,  2.55s/it]\n"
     ]
    }
   ],
   "source": [
    "# Get top n profiles from the profiles dataset\n",
    "top_posts = get_top_profiles_posts(10)"
   ]
  },
  {
   "cell_type": "code",
   "execution_count": 90,
   "id": "66f57c88",
   "metadata": {},
   "outputs": [],
   "source": [
    "# Pickle dataframe for future use\n",
    "top_posts.to_pickle(\"./pickles/top_posts.pkl\")"
   ]
  },
  {
   "cell_type": "code",
   "execution_count": 135,
   "id": "cc565f61",
   "metadata": {},
   "outputs": [],
   "source": [
    "# Read dataframe from pickle\n",
    "top_posts = pd.read_pickle(\"./pickles/top_posts.pkl\")  "
   ]
  },
  {
   "cell_type": "code",
   "execution_count": 91,
   "id": "60700aa3",
   "metadata": {},
   "outputs": [],
   "source": [
    "# Calculate averages for likes and comments\n",
    "avg_likes = top_posts.groupby('profile_id')['numbr_likes'].mean()\n",
    "avg_comments = top_posts.groupby('profile_id')['number_comments'].mean()"
   ]
  },
  {
   "cell_type": "code",
   "execution_count": 92,
   "id": "7bbba994",
   "metadata": {},
   "outputs": [
    {
     "data": {
      "text/html": [
       "<div>\n",
       "<style scoped>\n",
       "    .dataframe tbody tr th:only-of-type {\n",
       "        vertical-align: middle;\n",
       "    }\n",
       "\n",
       "    .dataframe tbody tr th {\n",
       "        vertical-align: top;\n",
       "    }\n",
       "\n",
       "    .dataframe thead th {\n",
       "        text-align: right;\n",
       "    }\n",
       "</style>\n",
       "<table border=\"1\" class=\"dataframe\">\n",
       "  <thead>\n",
       "    <tr style=\"text-align: right;\">\n",
       "      <th></th>\n",
       "      <th>profile_id</th>\n",
       "      <th>avg_likes</th>\n",
       "      <th>avg_comments</th>\n",
       "    </tr>\n",
       "  </thead>\n",
       "  <tbody>\n",
       "    <tr>\n",
       "      <th>0</th>\n",
       "      <td>9.813508e+06</td>\n",
       "      <td>0.296296</td>\n",
       "      <td>0.000000</td>\n",
       "    </tr>\n",
       "    <tr>\n",
       "      <th>1</th>\n",
       "      <td>1.996648e+08</td>\n",
       "      <td>7.666667</td>\n",
       "      <td>0.000000</td>\n",
       "    </tr>\n",
       "    <tr>\n",
       "      <th>2</th>\n",
       "      <td>2.181730e+08</td>\n",
       "      <td>0.400000</td>\n",
       "      <td>0.040000</td>\n",
       "    </tr>\n",
       "    <tr>\n",
       "      <th>3</th>\n",
       "      <td>2.855497e+08</td>\n",
       "      <td>3.921875</td>\n",
       "      <td>0.000000</td>\n",
       "    </tr>\n",
       "    <tr>\n",
       "      <th>4</th>\n",
       "      <td>1.273455e+09</td>\n",
       "      <td>2.960000</td>\n",
       "      <td>0.040000</td>\n",
       "    </tr>\n",
       "    <tr>\n",
       "      <th>5</th>\n",
       "      <td>1.603890e+09</td>\n",
       "      <td>6.477612</td>\n",
       "      <td>0.044776</td>\n",
       "    </tr>\n",
       "    <tr>\n",
       "      <th>6</th>\n",
       "      <td>1.607309e+09</td>\n",
       "      <td>1.540541</td>\n",
       "      <td>0.000000</td>\n",
       "    </tr>\n",
       "    <tr>\n",
       "      <th>7</th>\n",
       "      <td>1.701679e+09</td>\n",
       "      <td>1.447368</td>\n",
       "      <td>0.000000</td>\n",
       "    </tr>\n",
       "    <tr>\n",
       "      <th>8</th>\n",
       "      <td>8.563367e+09</td>\n",
       "      <td>0.000000</td>\n",
       "      <td>0.000000</td>\n",
       "    </tr>\n",
       "  </tbody>\n",
       "</table>\n",
       "</div>"
      ],
      "text/plain": [
       "     profile_id  avg_likes  avg_comments\n",
       "0  9.813508e+06   0.296296      0.000000\n",
       "1  1.996648e+08   7.666667      0.000000\n",
       "2  2.181730e+08   0.400000      0.040000\n",
       "3  2.855497e+08   3.921875      0.000000\n",
       "4  1.273455e+09   2.960000      0.040000\n",
       "5  1.603890e+09   6.477612      0.044776\n",
       "6  1.607309e+09   1.540541      0.000000\n",
       "7  1.701679e+09   1.447368      0.000000\n",
       "8  8.563367e+09   0.000000      0.000000"
      ]
     },
     "execution_count": 92,
     "metadata": {},
     "output_type": "execute_result"
    }
   ],
   "source": [
    "# Show results for each profile_id\n",
    "pd.concat([avg_likes, avg_comments], axis=1).reset_index().rename(columns={'numbr_likes':'avg_likes', 'number_comments':'avg_comments'})"
   ]
  },
  {
   "cell_type": "markdown",
   "id": "829c9ea6",
   "metadata": {},
   "source": [
    "- Plot the number of posts that these top 10 profiles have sent on Instagram in the given interval in question RQ3. Interpret the resulting chart."
   ]
  },
  {
   "cell_type": "code",
   "execution_count": 142,
   "id": "623d23ca",
   "metadata": {},
   "outputs": [],
   "source": [
    "time_intervals = [[6, 11], [11, 14], [17, 20], [20, 24], [0, 3], [3, 6]]\n",
    "\n",
    "# Drop posts with na cts\n",
    "top_posts = top_posts.dropna(subset=['cts'])\n",
    "\n",
    "# get hour for each posts\n",
    "top_posts['hour'] =  pd.to_datetime(top_posts['cts']).dt.hour\n",
    "\n",
    "# Initialized time_interval column\n",
    "top_posts['time_interval'] = '0-0'\n",
    "\n",
    "# Set time interval based on hour column\n",
    "for interval in time_intervals:\n",
    "    top_posts['time_interval'] = np.where((interval[0] <= top_posts['hour']) & (top_posts['hour'] < interval[1]), f'{interval[0]}-{interval[1]}', top_posts['time_interval'])"
   ]
  },
  {
   "cell_type": "code",
   "execution_count": 148,
   "id": "35be94a7",
   "metadata": {},
   "outputs": [],
   "source": [
    "grouped = top_posts.groupby('time_interval')['post_id'].count().reset_index(name='n_posts').sort_values('n_posts', ascending=False)"
   ]
  },
  {
   "cell_type": "code",
   "execution_count": 151,
   "id": "e719c7f2",
   "metadata": {},
   "outputs": [
    {
     "data": {
      "text/plain": [
       "<AxesSubplot:xlabel='time_interval'>"
      ]
     },
     "execution_count": 151,
     "metadata": {},
     "output_type": "execute_result"
    },
    {
     "data": {
      "image/png": "[encoded data removed]",
      "text/plain": [
       "<Figure size 432x288 with 1 Axes>"
      ]
     },
     "metadata": {
      "needs_background": "light"
     },
     "output_type": "display_data"
    }
   ],
   "source": [
    "grouped[['time_interval', 'n_posts']].plot(kind='bar', x='time_interval', y='n_posts')"
   ]
  },
  {
   "cell_type": "markdown",
   "id": "d63ec8ed",
   "metadata": {},
   "source": [
    "As we can see from the chart, profiles that posts the most tend to publish during the morning. \n",
    "This is a completely different trend from the one we observed with posts published from all profiles."
   ]
  },
  {
   "cell_type": "markdown",
   "id": "927019e0",
   "metadata": {},
   "source": [
    "# [RQ5] The most influential users are the ones with the highest number of “followers\", you can now look more into their activity."
   ]
  },
  {
   "cell_type": "markdown",
   "id": "172d0487",
   "metadata": {},
   "source": [
    "- Plot the top 10 most popular users in terms of followers and their number of posts."
   ]
  },
  {
   "cell_type": "code",
   "execution_count": 25,
   "id": "9e176ec6",
   "metadata": {},
   "outputs": [],
   "source": [
    "popular_profiles = profiles.sort_values('followers', ascending=False).head(10)"
   ]
  },
  {
   "cell_type": "code",
   "execution_count": 32,
   "id": "90c12b06",
   "metadata": {},
   "outputs": [
    {
     "data": {
      "text/plain": [
       "<AxesSubplot:xlabel='profile_name'>"
      ]
     },
     "execution_count": 32,
     "metadata": {},
     "output_type": "execute_result"
    },
    {
     "data": {
      "image/png": "[encoded data removed]",
      "text/plain": [
       "<Figure size 432x288 with 1 Axes>"
      ]
     },
     "metadata": {
      "needs_background": "light"
     },
     "output_type": "display_data"
    }
   ],
   "source": [
    "popular_profiles.plot(kind='bar', x='profile_name', y='n_posts')"
   ]
  },
  {
   "cell_type": "markdown",
   "id": "6afef293",
   "metadata": {},
   "source": [
    "- Who is the most influential user?"
   ]
  },
  {
   "cell_type": "code",
   "execution_count": 101,
   "id": "4fb97b71",
   "metadata": {},
   "outputs": [
    {
     "name": "stdout",
     "output_type": "stream",
     "text": [
      "The most influential user is andresiniesta8 with 29542143.0 followers\n"
     ]
    }
   ],
   "source": [
    "print(f'The most influential user is {popular_profiles.iloc[0][\"profile_name\"]} with {popular_profiles.iloc[0][\"followers\"]} followers')"
   ]
  },
  {
   "cell_type": "markdown",
   "id": "e522061f",
   "metadata": {},
   "source": [
    "- Have they posted anything with tagged locations? Extract the most frequent areas on their posts and plot the number of times each city has been visited."
   ]
  },
  {
   "cell_type": "code",
   "execution_count": 26,
   "id": "52676873",
   "metadata": {},
   "outputs": [],
   "source": [
    "# Save to into a lists ids from popular_profiles\n",
    "popular_profiles_ids = popular_profiles['profile_id']"
   ]
  },
  {
   "cell_type": "code",
   "execution_count": 35,
   "id": "8c847f0d",
   "metadata": {},
   "outputs": [
    {
     "name": "stderr",
     "output_type": "stream",
     "text": [
      "86it [03:22,  2.36s/it]\n"
     ]
    }
   ],
   "source": [
    "location_counter = Counter()\n",
    "\n",
    "for chunk in tqdm(pd.read_csv('data/instagram_posts.zip',\n",
    "                                      sep='\\t', chunksize=500000,\n",
    "                                      usecols=['profile_id', 'location_id'])):\n",
    "\n",
    "    # get only geocalized posts\n",
    "    chunk = chunk[chunk['location_id'].notna()]\n",
    "\n",
    "    for profile_id in popular_profiles_ids:\n",
    "        \n",
    "        # Get only the post of the current profile\n",
    "        profile_rows = chunk[chunk['profile_id'] == profile_id]\n",
    "            \n",
    "        c = Counter(profile_rows['location_id'])\n",
    "        \n",
    "        location_counter = sum([location_counter, c], Counter())"
   ]
  },
  {
   "cell_type": "code",
   "execution_count": 36,
   "id": "83950f3a",
   "metadata": {},
   "outputs": [],
   "source": [
    "# Get the mosts visited locations\n",
    "top_locations = location_counter.most_common(10)\n",
    "\n",
    "# Transform top_locations to dict\n",
    "top_locations = {location_id:count for location_id, count in top_locations}\n",
    "\n",
    "# Transform top_locations to dataframe\n",
    "top_locations = pd.DataFrame(top_locations.items(), columns=['id', 'num_visits'])"
   ]
  },
  {
   "cell_type": "code",
   "execution_count": 37,
   "id": "41390dd4",
   "metadata": {},
   "outputs": [
    {
     "data": {
      "text/html": [
       "<div>\n",
       "<style scoped>\n",
       "    .dataframe tbody tr th:only-of-type {\n",
       "        vertical-align: middle;\n",
       "    }\n",
       "\n",
       "    .dataframe tbody tr th {\n",
       "        vertical-align: top;\n",
       "    }\n",
       "\n",
       "    .dataframe thead th {\n",
       "        text-align: right;\n",
       "    }\n",
       "</style>\n",
       "<table border=\"1\" class=\"dataframe\">\n",
       "  <thead>\n",
       "    <tr style=\"text-align: right;\">\n",
       "      <th></th>\n",
       "      <th>id</th>\n",
       "      <th>num_visits</th>\n",
       "      <th>name</th>\n",
       "      <th>street</th>\n",
       "      <th>zip</th>\n",
       "      <th>city</th>\n",
       "      <th>region</th>\n",
       "      <th>cd</th>\n",
       "      <th>lat</th>\n",
       "      <th>lng</th>\n",
       "    </tr>\n",
       "  </thead>\n",
       "  <tbody>\n",
       "    <tr>\n",
       "      <th>0</th>\n",
       "      <td>2.130118e+08</td>\n",
       "      <td>9</td>\n",
       "      <td>Sydney, Australia</td>\n",
       "      <td></td>\n",
       "      <td></td>\n",
       "      <td>Sydney, Australia</td>\n",
       "      <td></td>\n",
       "      <td>AU</td>\n",
       "      <td>151.207970</td>\n",
       "      <td>-33.867510</td>\n",
       "    </tr>\n",
       "    <tr>\n",
       "      <th>1</th>\n",
       "      <td>4.135631e+08</td>\n",
       "      <td>5</td>\n",
       "      <td>Osaka</td>\n",
       "      <td></td>\n",
       "      <td></td>\n",
       "      <td>Osaka</td>\n",
       "      <td></td>\n",
       "      <td>JP</td>\n",
       "      <td>135.512200</td>\n",
       "      <td>34.660300</td>\n",
       "    </tr>\n",
       "    <tr>\n",
       "      <th>2</th>\n",
       "      <td>2.158716e+08</td>\n",
       "      <td>4</td>\n",
       "      <td>Cape Town, Western Cape</td>\n",
       "      <td></td>\n",
       "      <td></td>\n",
       "      <td>Cape Town, Western Cape</td>\n",
       "      <td></td>\n",
       "      <td>ZA</td>\n",
       "      <td>18.423900</td>\n",
       "      <td>-33.925300</td>\n",
       "    </tr>\n",
       "    <tr>\n",
       "      <th>3</th>\n",
       "      <td>2.006550e+15</td>\n",
       "      <td>3</td>\n",
       "      <td>Rosewood Bangkok</td>\n",
       "      <td>1041/38 Phloen Chit Rd, Khwaeng Lumphini</td>\n",
       "      <td>10330</td>\n",
       "      <td>Bangkok, Thailand</td>\n",
       "      <td></td>\n",
       "      <td>TH</td>\n",
       "      <td>100.549214</td>\n",
       "      <td>13.743137</td>\n",
       "    </tr>\n",
       "    <tr>\n",
       "      <th>4</th>\n",
       "      <td>2.129415e+08</td>\n",
       "      <td>3</td>\n",
       "      <td>Miami, Florida</td>\n",
       "      <td></td>\n",
       "      <td></td>\n",
       "      <td>Miami, Florida</td>\n",
       "      <td></td>\n",
       "      <td>US</td>\n",
       "      <td>-80.192000</td>\n",
       "      <td>25.775200</td>\n",
       "    </tr>\n",
       "    <tr>\n",
       "      <th>5</th>\n",
       "      <td>3.669021e+08</td>\n",
       "      <td>3</td>\n",
       "      <td>Kobe-shi, Hyogo, Japan</td>\n",
       "      <td></td>\n",
       "      <td></td>\n",
       "      <td>Kobe-shi, Hyogo, Japan</td>\n",
       "      <td></td>\n",
       "      <td>JP</td>\n",
       "      <td>135.191300</td>\n",
       "      <td>34.696400</td>\n",
       "    </tr>\n",
       "    <tr>\n",
       "      <th>6</th>\n",
       "      <td>1.906910e+15</td>\n",
       "      <td>2</td>\n",
       "      <td>Bora Bora, French Polynesia</td>\n",
       "      <td></td>\n",
       "      <td></td>\n",
       "      <td>Vaitape, French Polynesia</td>\n",
       "      <td></td>\n",
       "      <td>PF</td>\n",
       "      <td>-151.751991</td>\n",
       "      <td>-16.505823</td>\n",
       "    </tr>\n",
       "    <tr>\n",
       "      <th>7</th>\n",
       "      <td>8.594412e+14</td>\n",
       "      <td>2</td>\n",
       "      <td>F45 Senopati North</td>\n",
       "      <td>Jl. Senopati no 27-29, Selong, Kby. Baru, Kota...</td>\n",
       "      <td>12190</td>\n",
       "      <td>Jakarta, Indonesia</td>\n",
       "      <td></td>\n",
       "      <td>ID</td>\n",
       "      <td>106.808490</td>\n",
       "      <td>-6.230700</td>\n",
       "    </tr>\n",
       "    <tr>\n",
       "      <th>8</th>\n",
       "      <td>2.144271e+08</td>\n",
       "      <td>2</td>\n",
       "      <td>Jakarta, Indonesia</td>\n",
       "      <td></td>\n",
       "      <td></td>\n",
       "      <td>Jakarta, Indonesia</td>\n",
       "      <td></td>\n",
       "      <td>ID</td>\n",
       "      <td>106.823300</td>\n",
       "      <td>-6.180300</td>\n",
       "    </tr>\n",
       "    <tr>\n",
       "      <th>9</th>\n",
       "      <td>2.419169e+08</td>\n",
       "      <td>2</td>\n",
       "      <td>Jakarta</td>\n",
       "      <td></td>\n",
       "      <td></td>\n",
       "      <td>Jakarta, Indonesia</td>\n",
       "      <td></td>\n",
       "      <td>ID</td>\n",
       "      <td>106.800000</td>\n",
       "      <td>-6.166667</td>\n",
       "    </tr>\n",
       "  </tbody>\n",
       "</table>\n",
       "</div>"
      ],
      "text/plain": [
       "             id  num_visits                         name  \\\n",
       "0  2.130118e+08           9            Sydney, Australia   \n",
       "1  4.135631e+08           5                        Osaka   \n",
       "2  2.158716e+08           4      Cape Town, Western Cape   \n",
       "3  2.006550e+15           3             Rosewood Bangkok   \n",
       "4  2.129415e+08           3               Miami, Florida   \n",
       "5  3.669021e+08           3       Kobe-shi, Hyogo, Japan   \n",
       "6  1.906910e+15           2  Bora Bora, French Polynesia   \n",
       "7  8.594412e+14           2           F45 Senopati North   \n",
       "8  2.144271e+08           2           Jakarta, Indonesia   \n",
       "9  2.419169e+08           2                      Jakarta   \n",
       "\n",
       "                                              street    zip  \\\n",
       "0                                                             \n",
       "1                                                             \n",
       "2                                                             \n",
       "3           1041/38 Phloen Chit Rd, Khwaeng Lumphini  10330   \n",
       "4                                                             \n",
       "5                                                             \n",
       "6                                                             \n",
       "7  Jl. Senopati no 27-29, Selong, Kby. Baru, Kota...  12190   \n",
       "8                                                             \n",
       "9                                                             \n",
       "\n",
       "                        city region  cd         lat        lng  \n",
       "0          Sydney, Australia         AU  151.207970 -33.867510  \n",
       "1                      Osaka         JP  135.512200  34.660300  \n",
       "2    Cape Town, Western Cape         ZA   18.423900 -33.925300  \n",
       "3          Bangkok, Thailand         TH  100.549214  13.743137  \n",
       "4             Miami, Florida         US  -80.192000  25.775200  \n",
       "5     Kobe-shi, Hyogo, Japan         JP  135.191300  34.696400  \n",
       "6  Vaitape, French Polynesia         PF -151.751991 -16.505823  \n",
       "7         Jakarta, Indonesia         ID  106.808490  -6.230700  \n",
       "8         Jakarta, Indonesia         ID  106.823300  -6.180300  \n",
       "9         Jakarta, Indonesia         ID  106.800000  -6.166667  "
      ]
     },
     "execution_count": 37,
     "metadata": {},
     "output_type": "execute_result"
    }
   ],
   "source": [
    "# Merge top_locations with locations to get all locations names\n",
    "top_locations = top_locations.merge(locations).sort_values(by='num_visits', ascending=False)\n",
    "top_locations"
   ]
  },
  {
   "cell_type": "code",
   "execution_count": 38,
   "id": "736391b7",
   "metadata": {},
   "outputs": [
    {
     "data": {
      "text/plain": [
       "<AxesSubplot:xlabel='name'>"
      ]
     },
     "execution_count": 38,
     "metadata": {},
     "output_type": "execute_result"
    },
    {
     "data": {
      "image/png": "[encoded data removed]",
      "text/plain": [
       "<Figure size 432x288 with 1 Axes>"
      ]
     },
     "metadata": {
      "needs_background": "light"
     },
     "output_type": "display_data"
    }
   ],
   "source": [
    "top_locations.plot(kind='bar', x='name', y='num_visits')"
   ]
  },
  {
   "cell_type": "markdown",
   "id": "9091f9c8",
   "metadata": {},
   "source": [
    "- How many pictures-only posts have they published? How many reels? (only videos) and how many with both contents? Provide the number as percentages and interpret those figures."
   ]
  },
  {
   "cell_type": "code",
   "execution_count": 192,
   "id": "14f24326",
   "metadata": {},
   "outputs": [
    {
     "name": "stderr",
     "output_type": "stream",
     "text": [
      "86it [03:26,  2.41s/it]\n"
     ]
    }
   ],
   "source": [
    "popular_profiles_posts = pd.DataFrame(columns=['post_id', 'profile_id', 'post_type', 'numbr_likes', 'number_comments'])\n",
    "\n",
    "for chunk in tqdm(pd.read_csv('data/instagram_posts.zip',\n",
    "                                      sep='\\t', chunksize=500000,\n",
    "                                      usecols=['post_id', 'profile_id', 'post_type', 'numbr_likes', 'number_comments'])):\n",
    "        \n",
    "    # Get only th posts from the most popular profiles\n",
    "    selected_rows = chunk[chunk['profile_id'].isin(popular_profiles_ids)]\n",
    "    popular_profiles_posts = pd.concat([popular_profiles_posts, selected_rows])"
   ]
  },
  {
   "cell_type": "code",
   "execution_count": 193,
   "id": "2213ee2c",
   "metadata": {},
   "outputs": [],
   "source": [
    "# Pickle dataframe\n",
    "popular_profiles_posts.to_pickle(\"./pickles/popular_profiles_posts.pkl\")"
   ]
  },
  {
   "cell_type": "code",
   "execution_count": 27,
   "id": "368f1d7a",
   "metadata": {},
   "outputs": [],
   "source": [
    "# Read dataframe from pickle\n",
    "popular_profiles_posts = pd.read_pickle(\"./pickles/popular_profiles_posts.pkl\")  "
   ]
  },
  {
   "cell_type": "code",
   "execution_count": 30,
   "id": "a06a71e8",
   "metadata": {},
   "outputs": [
    {
     "data": {
      "text/html": [
       "<div>\n",
       "<style scoped>\n",
       "    .dataframe tbody tr th:only-of-type {\n",
       "        vertical-align: middle;\n",
       "    }\n",
       "\n",
       "    .dataframe tbody tr th {\n",
       "        vertical-align: top;\n",
       "    }\n",
       "\n",
       "    .dataframe thead th {\n",
       "        text-align: right;\n",
       "    }\n",
       "</style>\n",
       "<table border=\"1\" class=\"dataframe\">\n",
       "  <thead>\n",
       "    <tr style=\"text-align: right;\">\n",
       "      <th></th>\n",
       "      <th>post_id</th>\n",
       "      <th>profile_id</th>\n",
       "      <th>post_type</th>\n",
       "      <th>numbr_likes</th>\n",
       "      <th>number_comments</th>\n",
       "    </tr>\n",
       "  </thead>\n",
       "  <tbody>\n",
       "    <tr>\n",
       "      <th>2171045</th>\n",
       "      <td>8WS-oDwqtO</td>\n",
       "      <td>13384265</td>\n",
       "      <td>1</td>\n",
       "      <td>17623</td>\n",
       "      <td>139</td>\n",
       "    </tr>\n",
       "    <tr>\n",
       "      <th>2543217</th>\n",
       "      <td>BmYfnS1gWFr</td>\n",
       "      <td>907025384</td>\n",
       "      <td>1</td>\n",
       "      <td>382877</td>\n",
       "      <td>654</td>\n",
       "    </tr>\n",
       "    <tr>\n",
       "      <th>3434017</th>\n",
       "      <td>Bt4KV48FcIQ</td>\n",
       "      <td>10245870</td>\n",
       "      <td>1</td>\n",
       "      <td>1257385</td>\n",
       "      <td>5594</td>\n",
       "    </tr>\n",
       "    <tr>\n",
       "      <th>3545722</th>\n",
       "      <td>85DNUxAUTq</td>\n",
       "      <td>23410080</td>\n",
       "      <td>1</td>\n",
       "      <td>116059</td>\n",
       "      <td>642</td>\n",
       "    </tr>\n",
       "    <tr>\n",
       "      <th>3906967</th>\n",
       "      <td>3L9cmlBp-f</td>\n",
       "      <td>54305422</td>\n",
       "      <td>1</td>\n",
       "      <td>23141</td>\n",
       "      <td>414</td>\n",
       "    </tr>\n",
       "  </tbody>\n",
       "</table>\n",
       "</div>"
      ],
      "text/plain": [
       "             post_id profile_id post_type numbr_likes number_comments\n",
       "2171045   8WS-oDwqtO   13384265         1       17623             139\n",
       "2543217  BmYfnS1gWFr  907025384         1      382877             654\n",
       "3434017  Bt4KV48FcIQ   10245870         1     1257385            5594\n",
       "3545722   85DNUxAUTq   23410080         1      116059             642\n",
       "3906967   3L9cmlBp-f   54305422         1       23141             414"
      ]
     },
     "execution_count": 30,
     "metadata": {},
     "output_type": "execute_result"
    }
   ],
   "source": [
    "popular_profiles_posts.head()"
   ]
  },
  {
   "cell_type": "code",
   "execution_count": 31,
   "id": "0ea2d2ee",
   "metadata": {},
   "outputs": [],
   "source": [
    "# Group by profile_id and post_type\n",
    "grouped = popular_profiles_posts.groupby(['profile_id', 'post_type'])['post_id'].count().reset_index(name=\"n_posts\")[['profile_id', 'post_type', 'n_posts']]"
   ]
  },
  {
   "cell_type": "code",
   "execution_count": 32,
   "id": "29b4876c",
   "metadata": {},
   "outputs": [],
   "source": [
    "# Merge to get for each post type the total number of posts the user posted (count)\n",
    "grouped = grouped.merge(popular_profiles_posts.groupby('profile_id')['post_id'].count().reset_index(name=\"profile_n_posts\"), how='outer')"
   ]
  },
  {
   "cell_type": "code",
   "execution_count": 33,
   "id": "632652ef",
   "metadata": {},
   "outputs": [],
   "source": [
    "# Calculate for each post type the percentage\n",
    "grouped['percentage'] = round(grouped['n_posts'] / grouped['profile_n_posts'] * 100, 2)"
   ]
  },
  {
   "cell_type": "code",
   "execution_count": 34,
   "id": "d22c0cd0",
   "metadata": {},
   "outputs": [
    {
     "data": {
      "text/html": [
       "<div>\n",
       "<style scoped>\n",
       "    .dataframe tbody tr th:only-of-type {\n",
       "        vertical-align: middle;\n",
       "    }\n",
       "\n",
       "    .dataframe tbody tr th {\n",
       "        vertical-align: top;\n",
       "    }\n",
       "\n",
       "    .dataframe thead th {\n",
       "        text-align: right;\n",
       "    }\n",
       "</style>\n",
       "<table border=\"1\" class=\"dataframe\">\n",
       "  <thead>\n",
       "    <tr style=\"text-align: right;\">\n",
       "      <th></th>\n",
       "      <th>profile_id</th>\n",
       "      <th>post_type</th>\n",
       "      <th>n_posts</th>\n",
       "      <th>profile_n_posts</th>\n",
       "      <th>percentage</th>\n",
       "    </tr>\n",
       "  </thead>\n",
       "  <tbody>\n",
       "    <tr>\n",
       "      <th>0</th>\n",
       "      <td>1948416.0</td>\n",
       "      <td>1</td>\n",
       "      <td>25</td>\n",
       "      <td>27</td>\n",
       "      <td>92.59</td>\n",
       "    </tr>\n",
       "    <tr>\n",
       "      <th>1</th>\n",
       "      <td>1948416.0</td>\n",
       "      <td>2</td>\n",
       "      <td>2</td>\n",
       "      <td>27</td>\n",
       "      <td>7.41</td>\n",
       "    </tr>\n",
       "    <tr>\n",
       "      <th>2</th>\n",
       "      <td>3261799.0</td>\n",
       "      <td>1</td>\n",
       "      <td>19</td>\n",
       "      <td>19</td>\n",
       "      <td>100.00</td>\n",
       "    </tr>\n",
       "    <tr>\n",
       "      <th>3</th>\n",
       "      <td>8443283.0</td>\n",
       "      <td>1</td>\n",
       "      <td>13</td>\n",
       "      <td>13</td>\n",
       "      <td>100.00</td>\n",
       "    </tr>\n",
       "    <tr>\n",
       "      <th>4</th>\n",
       "      <td>10245870.0</td>\n",
       "      <td>1</td>\n",
       "      <td>19</td>\n",
       "      <td>20</td>\n",
       "      <td>95.00</td>\n",
       "    </tr>\n",
       "    <tr>\n",
       "      <th>5</th>\n",
       "      <td>10245870.0</td>\n",
       "      <td>2</td>\n",
       "      <td>1</td>\n",
       "      <td>20</td>\n",
       "      <td>5.00</td>\n",
       "    </tr>\n",
       "    <tr>\n",
       "      <th>6</th>\n",
       "      <td>13384265.0</td>\n",
       "      <td>1</td>\n",
       "      <td>21</td>\n",
       "      <td>21</td>\n",
       "      <td>100.00</td>\n",
       "    </tr>\n",
       "    <tr>\n",
       "      <th>7</th>\n",
       "      <td>23410080.0</td>\n",
       "      <td>1</td>\n",
       "      <td>2</td>\n",
       "      <td>2</td>\n",
       "      <td>100.00</td>\n",
       "    </tr>\n",
       "    <tr>\n",
       "      <th>8</th>\n",
       "      <td>24239929.0</td>\n",
       "      <td>1</td>\n",
       "      <td>23</td>\n",
       "      <td>26</td>\n",
       "      <td>88.46</td>\n",
       "    </tr>\n",
       "    <tr>\n",
       "      <th>9</th>\n",
       "      <td>24239929.0</td>\n",
       "      <td>2</td>\n",
       "      <td>3</td>\n",
       "      <td>26</td>\n",
       "      <td>11.54</td>\n",
       "    </tr>\n",
       "    <tr>\n",
       "      <th>10</th>\n",
       "      <td>54305422.0</td>\n",
       "      <td>1</td>\n",
       "      <td>18</td>\n",
       "      <td>19</td>\n",
       "      <td>94.74</td>\n",
       "    </tr>\n",
       "    <tr>\n",
       "      <th>11</th>\n",
       "      <td>54305422.0</td>\n",
       "      <td>2</td>\n",
       "      <td>1</td>\n",
       "      <td>19</td>\n",
       "      <td>5.26</td>\n",
       "    </tr>\n",
       "    <tr>\n",
       "      <th>12</th>\n",
       "      <td>496865116.0</td>\n",
       "      <td>1</td>\n",
       "      <td>12</td>\n",
       "      <td>12</td>\n",
       "      <td>100.00</td>\n",
       "    </tr>\n",
       "    <tr>\n",
       "      <th>13</th>\n",
       "      <td>907025384.0</td>\n",
       "      <td>1</td>\n",
       "      <td>13</td>\n",
       "      <td>13</td>\n",
       "      <td>100.00</td>\n",
       "    </tr>\n",
       "  </tbody>\n",
       "</table>\n",
       "</div>"
      ],
      "text/plain": [
       "     profile_id  post_type  n_posts  profile_n_posts  percentage\n",
       "0     1948416.0          1       25               27       92.59\n",
       "1     1948416.0          2        2               27        7.41\n",
       "2     3261799.0          1       19               19      100.00\n",
       "3     8443283.0          1       13               13      100.00\n",
       "4    10245870.0          1       19               20       95.00\n",
       "5    10245870.0          2        1               20        5.00\n",
       "6    13384265.0          1       21               21      100.00\n",
       "7    23410080.0          1        2                2      100.00\n",
       "8    24239929.0          1       23               26       88.46\n",
       "9    24239929.0          2        3               26       11.54\n",
       "10   54305422.0          1       18               19       94.74\n",
       "11   54305422.0          2        1               19        5.26\n",
       "12  496865116.0          1       12               12      100.00\n",
       "13  907025384.0          1       13               13      100.00"
      ]
     },
     "execution_count": 34,
     "metadata": {},
     "output_type": "execute_result"
    }
   ],
   "source": [
    "grouped"
   ]
  },
  {
   "cell_type": "markdown",
   "id": "306c7666",
   "metadata": {},
   "source": [
    "We can see that the most popular profiles tend to posts far more photos (post type 1) rather than videos."
   ]
  },
  {
   "cell_type": "markdown",
   "id": "8e9530af",
   "metadata": {},
   "source": [
    "- How many \"likes\" and comments did posts with only pictures receive? How about videos and mixed posts? Try to provide the average numbers and confront them with their followers amount, explaining what you can say from that comparison."
   ]
  },
  {
   "cell_type": "code",
   "execution_count": 35,
   "id": "9908e8b0",
   "metadata": {},
   "outputs": [],
   "source": [
    "# Calculate average number of likes for each post type of each profile\n",
    "avg_likes = popular_profiles_posts.groupby(['profile_id', 'post_type'])['numbr_likes'].mean().reset_index(name='avg_likes')\n",
    "grouped = grouped.merge(avg_likes)"
   ]
  },
  {
   "cell_type": "code",
   "execution_count": 36,
   "id": "8971984e",
   "metadata": {},
   "outputs": [],
   "source": [
    "# Calculate average number of comments for each post type of each profile\n",
    "avg_comments = popular_profiles_posts.groupby(['profile_id', 'post_type'])['number_comments'].mean().reset_index(name='avg_comments')\n",
    "grouped = grouped.merge(avg_comments)"
   ]
  },
  {
   "cell_type": "code",
   "execution_count": 59,
   "id": "391d4400",
   "metadata": {},
   "outputs": [],
   "source": [
    "# Merge to get number of followers\n",
    "follower_likes_comments = popular_profiles[['profile_id', 'followers']].merge(grouped[['profile_id', 'post_type', 'avg_likes', 'avg_comments']]).sort_values(by='followers')\n",
    "\n",
    "# Normalize likes and comments averages\n",
    "follower_likes_comments['avg_likes'] = follower_likes_comments['avg_likes'] / sum(follower_likes_comments['avg_likes'])\n",
    "follower_likes_comments['avg_comments'] = follower_likes_comments['avg_comments'] / sum(follower_likes_comments['avg_comments'])"
   ]
  },
  {
   "cell_type": "code",
   "execution_count": 60,
   "id": "3ebbf871",
   "metadata": {},
   "outputs": [
    {
     "data": {
      "text/html": [
       "<div>\n",
       "<style scoped>\n",
       "    .dataframe tbody tr th:only-of-type {\n",
       "        vertical-align: middle;\n",
       "    }\n",
       "\n",
       "    .dataframe tbody tr th {\n",
       "        vertical-align: top;\n",
       "    }\n",
       "\n",
       "    .dataframe thead th {\n",
       "        text-align: right;\n",
       "    }\n",
       "</style>\n",
       "<table border=\"1\" class=\"dataframe\">\n",
       "  <thead>\n",
       "    <tr style=\"text-align: right;\">\n",
       "      <th></th>\n",
       "      <th>profile_id</th>\n",
       "      <th>followers</th>\n",
       "      <th>post_type</th>\n",
       "      <th>avg_likes</th>\n",
       "      <th>avg_comments</th>\n",
       "    </tr>\n",
       "  </thead>\n",
       "  <tbody>\n",
       "    <tr>\n",
       "      <th>13</th>\n",
       "      <td>8443283.0</td>\n",
       "      <td>17920459.0</td>\n",
       "      <td>1</td>\n",
       "      <td>0.336265</td>\n",
       "      <td>0.306392</td>\n",
       "    </tr>\n",
       "    <tr>\n",
       "      <th>12</th>\n",
       "      <td>13384265.0</td>\n",
       "      <td>18313069.0</td>\n",
       "      <td>1</td>\n",
       "      <td>0.031430</td>\n",
       "      <td>0.027125</td>\n",
       "    </tr>\n",
       "    <tr>\n",
       "      <th>10</th>\n",
       "      <td>54305422.0</td>\n",
       "      <td>19185151.0</td>\n",
       "      <td>1</td>\n",
       "      <td>0.011901</td>\n",
       "      <td>0.026572</td>\n",
       "    </tr>\n",
       "    <tr>\n",
       "      <th>11</th>\n",
       "      <td>54305422.0</td>\n",
       "      <td>19185151.0</td>\n",
       "      <td>2</td>\n",
       "      <td>0.006993</td>\n",
       "      <td>0.016561</td>\n",
       "    </tr>\n",
       "    <tr>\n",
       "      <th>8</th>\n",
       "      <td>1948416.0</td>\n",
       "      <td>21513685.0</td>\n",
       "      <td>1</td>\n",
       "      <td>0.027447</td>\n",
       "      <td>0.056388</td>\n",
       "    </tr>\n",
       "    <tr>\n",
       "      <th>9</th>\n",
       "      <td>1948416.0</td>\n",
       "      <td>21513685.0</td>\n",
       "      <td>2</td>\n",
       "      <td>0.005598</td>\n",
       "      <td>0.015172</td>\n",
       "    </tr>\n",
       "    <tr>\n",
       "      <th>7</th>\n",
       "      <td>3261799.0</td>\n",
       "      <td>22319485.0</td>\n",
       "      <td>1</td>\n",
       "      <td>0.011274</td>\n",
       "      <td>0.009903</td>\n",
       "    </tr>\n",
       "    <tr>\n",
       "      <th>5</th>\n",
       "      <td>10245870.0</td>\n",
       "      <td>25021371.0</td>\n",
       "      <td>1</td>\n",
       "      <td>0.174109</td>\n",
       "      <td>0.141779</td>\n",
       "    </tr>\n",
       "    <tr>\n",
       "      <th>6</th>\n",
       "      <td>10245870.0</td>\n",
       "      <td>25021371.0</td>\n",
       "      <td>2</td>\n",
       "      <td>0.040808</td>\n",
       "      <td>0.032817</td>\n",
       "    </tr>\n",
       "    <tr>\n",
       "      <th>4</th>\n",
       "      <td>907025384.0</td>\n",
       "      <td>26252169.0</td>\n",
       "      <td>1</td>\n",
       "      <td>0.206108</td>\n",
       "      <td>0.222924</td>\n",
       "    </tr>\n",
       "    <tr>\n",
       "      <th>2</th>\n",
       "      <td>24239929.0</td>\n",
       "      <td>29042823.0</td>\n",
       "      <td>1</td>\n",
       "      <td>0.028470</td>\n",
       "      <td>0.025652</td>\n",
       "    </tr>\n",
       "    <tr>\n",
       "      <th>3</th>\n",
       "      <td>24239929.0</td>\n",
       "      <td>29042823.0</td>\n",
       "      <td>2</td>\n",
       "      <td>0.008381</td>\n",
       "      <td>0.030593</td>\n",
       "    </tr>\n",
       "    <tr>\n",
       "      <th>1</th>\n",
       "      <td>23410080.0</td>\n",
       "      <td>29176804.0</td>\n",
       "      <td>1</td>\n",
       "      <td>0.016297</td>\n",
       "      <td>0.012361</td>\n",
       "    </tr>\n",
       "    <tr>\n",
       "      <th>0</th>\n",
       "      <td>496865116.0</td>\n",
       "      <td>29542143.0</td>\n",
       "      <td>1</td>\n",
       "      <td>0.094921</td>\n",
       "      <td>0.075762</td>\n",
       "    </tr>\n",
       "  </tbody>\n",
       "</table>\n",
       "</div>"
      ],
      "text/plain": [
       "     profile_id   followers  post_type  avg_likes  avg_comments\n",
       "13    8443283.0  17920459.0          1   0.336265      0.306392\n",
       "12   13384265.0  18313069.0          1   0.031430      0.027125\n",
       "10   54305422.0  19185151.0          1   0.011901      0.026572\n",
       "11   54305422.0  19185151.0          2   0.006993      0.016561\n",
       "8     1948416.0  21513685.0          1   0.027447      0.056388\n",
       "9     1948416.0  21513685.0          2   0.005598      0.015172\n",
       "7     3261799.0  22319485.0          1   0.011274      0.009903\n",
       "5    10245870.0  25021371.0          1   0.174109      0.141779\n",
       "6    10245870.0  25021371.0          2   0.040808      0.032817\n",
       "4   907025384.0  26252169.0          1   0.206108      0.222924\n",
       "2    24239929.0  29042823.0          1   0.028470      0.025652\n",
       "3    24239929.0  29042823.0          2   0.008381      0.030593\n",
       "1    23410080.0  29176804.0          1   0.016297      0.012361\n",
       "0   496865116.0  29542143.0          1   0.094921      0.075762"
      ]
     },
     "execution_count": 60,
     "metadata": {},
     "output_type": "execute_result"
    }
   ],
   "source": [
    "follower_likes_comments"
   ]
  },
  {
   "cell_type": "code",
   "execution_count": 61,
   "id": "6bcd82ad",
   "metadata": {},
   "outputs": [
    {
     "data": {
      "text/plain": [
       "post_type\n",
       "1    AxesSubplot(0.125,0.125;0.775x0.755)\n",
       "2    AxesSubplot(0.125,0.125;0.775x0.755)\n",
       "Name: avg_likes, dtype: object"
      ]
     },
     "execution_count": 61,
     "metadata": {},
     "output_type": "execute_result"
    },
    {
     "data": {
      "image/png": "[encoded data removed]",
      "text/plain": [
       "<Figure size 432x288 with 1 Axes>"
      ]
     },
     "metadata": {
      "needs_background": "light"
     },
     "output_type": "display_data"
    }
   ],
   "source": [
    "follower_likes_comments.set_index('followers').groupby(['post_type'])['avg_likes'].plot(legend=True)"
   ]
  },
  {
   "cell_type": "code",
   "execution_count": 62,
   "id": "41efd121",
   "metadata": {},
   "outputs": [
    {
     "data": {
      "text/plain": [
       "post_type\n",
       "1    AxesSubplot(0.125,0.125;0.775x0.755)\n",
       "2    AxesSubplot(0.125,0.125;0.775x0.755)\n",
       "Name: avg_comments, dtype: object"
      ]
     },
     "execution_count": 62,
     "metadata": {},
     "output_type": "execute_result"
    },
    {
     "data": {
      "image/png": "[encoded data removed]",
      "text/plain": [
       "<Figure size 432x288 with 1 Axes>"
      ]
     },
     "metadata": {
      "needs_background": "light"
     },
     "output_type": "display_data"
    }
   ],
   "source": [
    "follower_likes_comments.set_index('followers').groupby(['post_type'])['avg_comments'].plot(legend=True)"
   ]
  },
  {
   "cell_type": "markdown",
   "id": "b8611690",
   "metadata": {},
   "source": [
    "From the charts we can see that the number of followers has more impact with posts of type 1 (images) with a similar trend both for the number of likes and the number of comments."
   ]
  },
  {
   "cell_type": "markdown",
   "id": "0bc854c5",
   "metadata": {},
   "source": [
    "# [RQ6] It's time to get information from the user posting effectiveness."
   ]
  },
  {
   "cell_type": "markdown",
   "id": "4efd1113",
   "metadata": {},
   "source": [
    "- What is the average time (days and minutes) a user lets pass before publishing another post? Plot the top 3 users that publish posts more frequently (calculate the average time that passes between posts), including their amount of followers and following. Provide insights from that chart."
   ]
  },
  {
   "cell_type": "code",
   "execution_count": 81,
   "id": "967c3df0",
   "metadata": {},
   "outputs": [
    {
     "name": "stderr",
     "output_type": "stream",
     "text": [
      "86it [05:53,  4.11s/it]\n"
     ]
    }
   ],
   "source": [
    "avgs_delta = pd.DataFrame(columns=['profile_id', 'avg_delta'])\n",
    "\n",
    "for chunk in tqdm(pd.read_csv('data/instagram_posts.zip', sep='\\t', chunksize=500000, \n",
    "                              usecols=['profile_id', 'cts'])):\n",
    "    \n",
    "    chunck = chunk.dropna(subset=['cts'])\n",
    "    \n",
    "    chunck = chunk.sort_values(['profile_id', 'cts'], ascending=False)\n",
    "    \n",
    "    #Calculate delta time between each posts\n",
    "    chunk['delta'] = pd.to_datetime(chunck['cts']).diff()\n",
    "    \n",
    "    chunk['delta'] = abs(chunk['delta'])\n",
    "    \n",
    "    # Group by profile and calculate the average delta\n",
    "    chunck_avgs_delta = chunk.groupby('profile_id')['delta'].mean().reset_index(name='avg_delta')\n",
    "    \n",
    "    # Add the top 10 of chunck_avgs_delta to the main dataframe\n",
    "    avgs_delta= pd.concat([avgs_delta, chunck_avgs_delta.sort_values('avg_delta').reset_index()[:10]]) "
   ]
  },
  {
   "cell_type": "code",
   "execution_count": 79,
   "id": "94a4350b",
   "metadata": {},
   "outputs": [],
   "source": [
    "# Pickle dataframe\n",
    "avgs_delta.to_pickle(\"./pickles/avgs_delta.pkl\")"
   ]
  },
  {
   "cell_type": "code",
   "execution_count": 80,
   "id": "a2581439",
   "metadata": {},
   "outputs": [],
   "source": [
    "# Unpickle dataframe\n",
    "avgs_delta = pd.read_pickle(\"./pickles/avgs_delta.pkl\")  "
   ]
  },
  {
   "cell_type": "code",
   "execution_count": 82,
   "id": "00e2f831",
   "metadata": {},
   "outputs": [],
   "source": [
    "avgs_delta = avgs_delta.sort_values('avg_delta')"
   ]
  },
  {
   "cell_type": "code",
   "execution_count": 105,
   "id": "01c9ef0b",
   "metadata": {},
   "outputs": [],
   "source": [
    "# Merge with profiles\n",
    "top3 = avgs_delta.merge(profiles[['profile_id', 'following', 'followers']])[:3]"
   ]
  },
  {
   "cell_type": "code",
   "execution_count": 112,
   "id": "facec8c1",
   "metadata": {},
   "outputs": [
    {
     "data": {
      "text/html": [
       "<div>\n",
       "<style scoped>\n",
       "    .dataframe tbody tr th:only-of-type {\n",
       "        vertical-align: middle;\n",
       "    }\n",
       "\n",
       "    .dataframe tbody tr th {\n",
       "        vertical-align: top;\n",
       "    }\n",
       "\n",
       "    .dataframe thead th {\n",
       "        text-align: right;\n",
       "    }\n",
       "</style>\n",
       "<table border=\"1\" class=\"dataframe\">\n",
       "  <thead>\n",
       "    <tr style=\"text-align: right;\">\n",
       "      <th></th>\n",
       "      <th>profile_id</th>\n",
       "      <th>avg_delta</th>\n",
       "      <th>following</th>\n",
       "      <th>followers</th>\n",
       "    </tr>\n",
       "  </thead>\n",
       "  <tbody>\n",
       "    <tr>\n",
       "      <th>0</th>\n",
       "      <td>13748608321.0</td>\n",
       "      <td>0 days 00:00:00</td>\n",
       "      <td>0.0</td>\n",
       "      <td>15.0</td>\n",
       "    </tr>\n",
       "    <tr>\n",
       "      <th>1</th>\n",
       "      <td>11215568734.0</td>\n",
       "      <td>0 days 00:00:00</td>\n",
       "      <td>8.0</td>\n",
       "      <td>9.0</td>\n",
       "    </tr>\n",
       "    <tr>\n",
       "      <th>2</th>\n",
       "      <td>12750342561.0</td>\n",
       "      <td>0 days 00:00:01</td>\n",
       "      <td>0.0</td>\n",
       "      <td>56.0</td>\n",
       "    </tr>\n",
       "  </tbody>\n",
       "</table>\n",
       "</div>"
      ],
      "text/plain": [
       "      profile_id       avg_delta  following  followers\n",
       "0  13748608321.0 0 days 00:00:00        0.0       15.0\n",
       "1  11215568734.0 0 days 00:00:00        8.0        9.0\n",
       "2  12750342561.0 0 days 00:00:01        0.0       56.0"
      ]
     },
     "execution_count": 112,
     "metadata": {},
     "output_type": "execute_result"
    }
   ],
   "source": [
    "top3"
   ]
  },
  {
   "cell_type": "code",
   "execution_count": 115,
   "id": "59a12cf3",
   "metadata": {},
   "outputs": [
    {
     "data": {
      "text/plain": [
       "<AxesSubplot:xlabel='avg_delta'>"
      ]
     },
     "execution_count": 115,
     "metadata": {},
     "output_type": "execute_result"
    },
    {
     "data": {
      "image/png": "[encoded data removed]",
      "text/plain": [
       "<Figure size 432x288 with 1 Axes>"
      ]
     },
     "metadata": {
      "needs_background": "light"
     },
     "output_type": "display_data"
    }
   ],
   "source": [
    "top3.plot(kind='line', x='avg_delta', y='following')"
   ]
  },
  {
   "cell_type": "code",
   "execution_count": 116,
   "id": "f9a392ce",
   "metadata": {},
   "outputs": [
    {
     "data": {
      "text/plain": [
       "<AxesSubplot:xlabel='avg_delta'>"
      ]
     },
     "execution_count": 116,
     "metadata": {},
     "output_type": "execute_result"
    },
    {
     "data": {
      "image/png": "[encoded data removed]",
      "text/plain": [
       "<Figure size 432x288 with 1 Axes>"
      ]
     },
     "metadata": {
      "needs_background": "light"
     },
     "output_type": "display_data"
    }
   ],
   "source": [
    "top3.plot(kind='line', x='avg_delta', y='followers')"
   ]
  },
  {
   "cell_type": "markdown",
   "id": "3efe3e89",
   "metadata": {},
   "source": [
    "Unfortunately the 3 profiles that posts more frequently don't seem to be so popular (they don't event reach 100 followers).\n",
    "More interesting information could be generated merging to avgs_delta only profiles that have a certain amount of followers."
   ]
  },
  {
   "cell_type": "markdown",
   "id": "024f071b",
   "metadata": {},
   "source": [
    "- Using the function you previously coded, plot the time intervals with the highest average number of “likes” and the ones with the highest average number of comments on posts."
   ]
  },
  {
   "cell_type": "code",
   "execution_count": null,
   "id": "9d19b008",
   "metadata": {},
   "outputs": [],
   "source": [
    "# TODO"
   ]
  },
  {
   "cell_type": "markdown",
   "id": "f49cbb44",
   "metadata": {},
   "source": [
    "# [RQ7] Of course, calculating probabilities is a job that any Data Scientist must know. So let's compute some engaging figures."
   ]
  },
  {
   "cell_type": "markdown",
   "id": "c18186a6",
   "metadata": {},
   "source": [
    "- What's the probability that a post receives more than 20% \"likes\" of the number of followers a user has?"
   ]
  },
  {
   "cell_type": "code",
   "execution_count": 234,
   "id": "6ceec4f0",
   "metadata": {},
   "outputs": [],
   "source": [
    "# Get profiles with at least one follower\n",
    "followed_profiles = profiles.loc[profiles['followers'] > 0][['profile_id', 'followers']]"
   ]
  },
  {
   "cell_type": "code",
   "execution_count": 78,
   "id": "5b6e2343",
   "metadata": {},
   "outputs": [
    {
     "name": "stderr",
     "output_type": "stream",
     "text": [
      "86it [07:52,  5.49s/it]\n"
     ]
    }
   ],
   "source": [
    "# Set up a counter to collect al the boolean values\n",
    "percentage_counter = Counter()\n",
    "\n",
    "for chunk in tqdm(pd.read_csv('data/instagram_posts.zip',\n",
    "                                      sep='\\t', chunksize=500000,\n",
    "                                      usecols=['post_id', 'profile_id', 'post_type', 'numbr_likes'])):\n",
    "        \n",
    "    # Join chunck with followed_profiles\n",
    "    chunk = chunk.merge(followed_profiles)\n",
    "    \n",
    "    # Create a flag to see if the number of likes is greather than the 20% of the number of followers\n",
    "    chunk['isgreater_than_20%'] = chunk['numbr_likes'] / chunk['followers'] > 0.2\n",
    "    \n",
    "    # Sum the new flags\n",
    "    percentage_counter = sum([percentage_counter, Counter(chunk['isgreater_than_20%'])], Counter())"
   ]
  },
  {
   "cell_type": "code",
   "execution_count": 84,
   "id": "dc6c96ed",
   "metadata": {},
   "outputs": [
    {
     "data": {
      "text/plain": [
       "Counter({False: 19480034, True: 3726231})"
      ]
     },
     "execution_count": 84,
     "metadata": {},
     "output_type": "execute_result"
    }
   ],
   "source": [
    "percentage_counter"
   ]
  },
  {
   "cell_type": "code",
   "execution_count": 87,
   "id": "939c17d4",
   "metadata": {},
   "outputs": [
    {
     "name": "stdout",
     "output_type": "stream",
     "text": [
      "The probability that the user receives more than 20% \"likes\" of the number of his followers is 0.16 %\n"
     ]
    }
   ],
   "source": [
    "print(f'The probability that the user receives more than 20% \"likes\" of the number of his followers is {round(percentage_counter[1] / (percentage_counter[0] + percentage_counter[1]), 2)} %')"
   ]
  },
  {
   "cell_type": "markdown",
   "id": "52a288e1",
   "metadata": {},
   "source": [
    "- Do users usually return to locations? Extract the probability that a user returns to a site after having posted it in the past. Does that probability make sense to you? Explain why or why not."
   ]
  },
  {
   "cell_type": "code",
   "execution_count": 88,
   "id": "22cd0373",
   "metadata": {},
   "outputs": [
    {
     "name": "stderr",
     "output_type": "stream",
     "text": [
      "86it [03:56,  2.75s/it]\n"
     ]
    }
   ],
   "source": [
    "# Get all localized posts\n",
    "localized_posts = pd.DataFrame(columns=['profile_id', 'location_id'])\n",
    "\n",
    "for chunk in tqdm(pd.read_csv('data/instagram_posts.zip',\n",
    "                                      sep='\\t', chunksize=500000,\n",
    "                                      usecols=['profile_id', 'location_id'])):\n",
    "    # Drop nan values\n",
    "    chunck = chunk.dropna()\n",
    "    localized_posts = pd.concat([localized_posts, chunk])"
   ]
  },
  {
   "cell_type": "code",
   "execution_count": null,
   "id": "9d23f20d",
   "metadata": {},
   "outputs": [],
   "source": [
    "localized_posts = localized_posts.sort_values(['profile_id', 'location_id'])"
   ]
  },
  {
   "cell_type": "code",
   "execution_count": 93,
   "id": "6b3f8baf",
   "metadata": {},
   "outputs": [],
   "source": [
    "# Pickle dataframe\n",
    "top_posts.to_pickle(\"./pickles/localized_posts.pkl\")"
   ]
  },
  {
   "cell_type": "code",
   "execution_count": 25,
   "id": "707c04c6",
   "metadata": {},
   "outputs": [],
   "source": [
    "# Unpickle dataframe\n",
    "localized_posts = pd.read_pickle(\"./pickles/localized_posts.pkl\")  "
   ]
  },
  {
   "cell_type": "code",
   "execution_count": 26,
   "id": "d46480e1",
   "metadata": {},
   "outputs": [],
   "source": [
    "# Count the number of visited location for each profile\n",
    "profile_location_uniques = localized_posts.groupby('profile_id')['location_id'].nunique().reset_index(name='n_locations')"
   ]
  },
  {
   "cell_type": "code",
   "execution_count": 27,
   "id": "8230e29d",
   "metadata": {},
   "outputs": [],
   "source": [
    "# Get size for each profile and location\n",
    "profile_location_duplicates = localized_posts.groupby(['profile_id','location_id']).size().reset_index(name='n_duplicates')\n",
    "\n",
    "# Adjust column to match the number of duplicates for location\n",
    "profile_location_duplicates['n_duplicates'] = profile_location_duplicates['n_duplicates'] - 1"
   ]
  },
  {
   "cell_type": "code",
   "execution_count": 28,
   "id": "f7418177",
   "metadata": {},
   "outputs": [],
   "source": [
    "# Group profile_location_duplicates by profile and sum the duplicates, then merge with profile_location_uniques\n",
    "profile_loc_dup = profile_location_duplicates.groupby('profile_id')['n_duplicates'].sum().reset_index().merge(profile_location_uniques)"
   ]
  },
  {
   "cell_type": "code",
   "execution_count": 29,
   "id": "61522004",
   "metadata": {},
   "outputs": [],
   "source": [
    "# Calculate for each user the probability to return to a location which will be n_duplicates / n_locations\n",
    "profile_loc_dup['return_prob'] = profile_loc_dup['n_duplicates'] / profile_loc_dup['n_locations'] * 100"
   ]
  },
  {
   "cell_type": "code",
   "execution_count": 30,
   "id": "9be95de2",
   "metadata": {},
   "outputs": [
    {
     "name": "stdout",
     "output_type": "stream",
     "text": [
      "The average probability that a user return to a site is 35.77%\n"
     ]
    }
   ],
   "source": [
    "# Get the average probability from all profiles\n",
    "print(f'The average probability that a user return to a site is {round(profile_loc_dup[\"return_prob\"].mean(), 2)}%')"
   ]
  },
  {
   "cell_type": "markdown",
   "id": "f3198304",
   "metadata": {},
   "source": [
    "Unfortunately, the calculated probability does not take several factors into account, so we cannot consider it to be reliable.\n",
    "A time interval should be defined beyond which a post in the same location can be considered related to a new trip.\n",
    "\n",
    "For example, posts published during a week on vacation should be considered as one trip and therefore should not raise the probability that we are looking for."
   ]
  },
  {
   "cell_type": "markdown",
   "id": "1a0c6bdf",
   "metadata": {},
   "source": [
    "# [RQ8] Every decision you take in a data-based environment should be reinforced with charts, statistical tests and analysis methods to check whether a hypothesis is correct or not."
   ]
  },
  {
   "cell_type": "markdown",
   "id": "d54b14fe",
   "metadata": {},
   "source": [
    "- Does more “likes” also mean more comments? Plot a scatter plot of “likes” vs comments for posts."
   ]
  },
  {
   "cell_type": "code",
   "execution_count": 47,
   "id": "b179fcc4",
   "metadata": {},
   "outputs": [
    {
     "data": {
      "text/plain": [
       "<AxesSubplot:xlabel='numbr_likes', ylabel='number_comments'>"
      ]
     },
     "execution_count": 47,
     "metadata": {},
     "output_type": "execute_result"
    },
    {
     "data": {
      "image/png": "[encoded data removed]",
      "text/plain": [
       "<Figure size 432x288 with 1 Axes>"
      ]
     },
     "metadata": {
      "needs_background": "light"
     },
     "output_type": "display_data"
    }
   ],
   "source": [
    "# We use posts_sample\n",
    "posts_sample.plot(kind='scatter', x='numbr_likes', y='number_comments')"
   ]
  },
  {
   "cell_type": "markdown",
   "id": "dbcde7c8",
   "metadata": {},
   "source": [
    "- Can you find any significant relationship between the time a user publishes a post and the number of comments and “likes”? Use an appropriate statistical test or technique and support your choice."
   ]
  },
  {
   "cell_type": "code",
   "execution_count": 52,
   "id": "92df92b5",
   "metadata": {},
   "outputs": [
    {
     "data": {
      "text/plain": [
       "<seaborn.axisgrid.PairGrid at 0x7f87a55ecdc0>"
      ]
     },
     "execution_count": 52,
     "metadata": {},
     "output_type": "execute_result"
    },
    {
     "data": {
      "image/png": "[encoded data removed]",
      "text/plain": [
       "<Figure size 540x540 with 12 Axes>"
      ]
     },
     "metadata": {
      "needs_background": "light"
     },
     "output_type": "display_data"
    }
   ],
   "source": [
    "posts_sample['hour'] =  pd.to_datetime(posts_sample['cts']).dt.hour\n",
    "\n",
    "sns.pairplot(posts_sample[['hour', 'numbr_likes', 'number_comments']])"
   ]
  },
  {
   "cell_type": "markdown",
   "id": "884847de",
   "metadata": {},
   "source": [
    "As can be seen from the graphs, there seems to be no correlation between the time a user publishes a post and the number of comments or likes."
   ]
  },
  {
   "cell_type": "markdown",
   "id": "27285894",
   "metadata": {},
   "source": [
    "- What’s the distribution of followers? Plot the empirical distribution of followers amongst all users and extract the mean, mode, and quantiles. Interpret those figures."
   ]
  },
  {
   "cell_type": "code",
   "execution_count": 46,
   "id": "e84a5f80",
   "metadata": {},
   "outputs": [
    {
     "data": {
      "text/plain": [
       "[<matplotlib.lines.Line2D at 0x7f87a518c4f0>]"
      ]
     },
     "execution_count": 46,
     "metadata": {},
     "output_type": "execute_result"
    },
    {
     "data": {
      "image/png": "[encoded data removed]",
      "text/plain": [
       "<Figure size 432x288 with 1 Axes>"
      ]
     },
     "metadata": {
      "needs_background": "light"
     },
     "output_type": "display_data"
    }
   ],
   "source": [
    "# Empirical distribution\n",
    "def ecdf(x):\n",
    "    xs = np.sort(x)\n",
    "    ys = np.arange(1, len(xs)+1)/float(len(xs))\n",
    "    return xs, ys\n",
    "\n",
    "xs, ys = ecdf(profiles['followers'])\n",
    "plt.plot(xs, ys)"
   ]
  },
  {
   "cell_type": "code",
   "execution_count": 37,
   "id": "1f0fcbe8",
   "metadata": {},
   "outputs": [
    {
     "data": {
      "text/plain": [
       "count    4.037872e+06\n",
       "mean     3.093541e+03\n",
       "std      7.691628e+04\n",
       "min      0.000000e+00\n",
       "25%      5.300000e+01\n",
       "50%      2.760000e+02\n",
       "75%      7.710000e+02\n",
       "max      2.954214e+07\n",
       "Name: followers, dtype: float64"
      ]
     },
     "execution_count": 37,
     "metadata": {},
     "output_type": "execute_result"
    }
   ],
   "source": [
    "# Mean and quantiles\n",
    "profiles['followers'].describe()"
   ]
  },
  {
   "cell_type": "code",
   "execution_count": 42,
   "id": "cb3c1fb5",
   "metadata": {},
   "outputs": [
    {
     "data": {
      "text/plain": [
       "0    0.0\n",
       "dtype: float64"
      ]
     },
     "execution_count": 42,
     "metadata": {},
     "output_type": "execute_result"
    }
   ],
   "source": [
    "# Mode\n",
    "profiles['followers'].mode()"
   ]
  },
  {
   "cell_type": "markdown",
   "id": "83520b44",
   "metadata": {},
   "source": [
    "As can be seen from the extracted information, the mode of the number of followers is equal to the minimum value.\n",
    "The mean, on the other hand, is strongly influenced by a series of very high values; in fact, we can see that it is much higher than the median"
   ]
  },
  {
   "cell_type": "markdown",
   "id": "b26edce3",
   "metadata": {},
   "source": [
    "- What are histograms, bar plots, scatterplots and pie charts used for?"
   ]
  },
  {
   "cell_type": "markdown",
   "id": "4d6e8294",
   "metadata": {},
   "source": [
    "Histogramns breaks down a numeric feature into bins (interval groups) and shows the frequency of data for each group. They are useful to approximise the distribution of numeric data. For example, to measure sales in 3-month time intervals.\n",
    "\n",
    "Bar plots are similar to histograms but the x-axis in this case is a categorical attribute instead of numeric interval. They are useful to compare measure of categorical dimension. For example, to compare the sales of 3 stores of the same chain in different cities.\n",
    "\n",
    "Scatterplots plots two numeric attributes to visualize if there is a correlation between axes. They are commonly used to identify regression type of relationships such as linear regression, logistic regression etc. For example, to see if there is a correlation between the price of houses and their square footage.\n",
    "\n",
    "Pie charts are used to depicts how much each component occupies the whole. They are useful to visualize the weight of components belonging to one categorical attribute. For example, For example, to view the main summer beverages sold in the last summer."
   ]
  },
  {
   "cell_type": "markdown",
   "id": "e6516b0c",
   "metadata": {},
   "source": [
    "- What insights can you extract from a Box Plot?"
   ]
  },
  {
   "cell_type": "markdown",
   "id": "96e66ccd",
   "metadata": {},
   "source": [
    "Box plots provide a quick visual summary of the variability of values in a dataset. They show the median, upper and lower quartiles, minimum and maximum values, and any outliers in the dataset."
   ]
  },
  {
   "cell_type": "markdown",
   "id": "18a011ee",
   "metadata": {},
   "source": [
    "# [AQ1] Given the following pseudocode, answer the questions:"
   ]
  },
  {
   "cell_type": "markdown",
   "id": "a8650594",
   "metadata": {},
   "source": [
    "```\n",
    "Input: \n",
    "    N : an integer \n",
    "    List : array of characters of length N without repetition\n",
    "    \n",
    "function f1(sequence, end): \n",
    "    For i=0 To end:\n",
    "        OUTPUT sequence[i]\n",
    "    EndFor\n",
    "    Output \"\\n\"\n",
    "    \n",
    "function f2(sequence, start, end): \n",
    "    If start = end: \n",
    "        f1(sequence, end)\n",
    "    Else\n",
    "        For i=start To end: \n",
    "            temp <-- sequence[start]\n",
    "            sequence[start] <-- sequence[i]\n",
    "            sequence[i] <-- temp\n",
    "            f2(sequence, start+1, end)\n",
    "            temp <-- sequence[start]\n",
    "            sequence[start] <-- sequence[i]\n",
    "            sequence[i] <-- temp\n",
    "f2(List, 0, N)\n",
    "```"
   ]
  },
  {
   "cell_type": "markdown",
   "id": "bef77ba9",
   "metadata": {},
   "source": [
    "- What is the output of this algorithm? Describe the mechanism of the algorithm in detail . We do not want to know only its final result. (Describe one example on your own)"
   ]
  },
  {
   "cell_type": "markdown",
   "id": "cb8ecb7f",
   "metadata": {},
   "source": [
    "```\n",
    "The output of the algorithm consists of a print of all possible permutations of the list taken as input.\n",
    "Given the length is N, all the possibile combinations will be (N!).\n",
    "\n",
    "Example:\n",
    "N: 3\n",
    "List: ['a', 'b', 'c']\n",
    "\n",
    "Output:\n",
    "['a', 'b', 'c']\n",
    "['a', 'c', 'b']\n",
    "['b', 'a', 'c']\n",
    "['b', 'c', 'a']\n",
    "['c', 'b', 'a']\n",
    "['c', 'a', 'b']\n",
    "\n",
    "The first function simply print the sequence of characters.\n",
    "\n",
    "The second function uses a recursive approeach.\n",
    "The first condition determines the end of a recursion and calls the first function to print the list.\n",
    "If the condition start = end is not true we have a for loop which will:\n",
    "- swap sequence[start] and sequence[i] \n",
    "- make a recursive call and finally\n",
    "- swap again sequence[start] and sequence[i].\n",
    "\n",
    "```"
   ]
  },
  {
   "cell_type": "markdown",
   "id": "a746cb5d",
   "metadata": {},
   "source": [
    "- What is asymptotically (i.e., we are asking for big-O complexity) the algorithm's running time as a function of N?"
   ]
  },
  {
   "cell_type": "markdown",
   "id": "74f8b957",
   "metadata": {
    "pycharm": {
     "is_executing": true
    }
   },
   "source": [
    "```\n",
    "\n",
    "T(n) = n T(n - 1)\n",
    "\n",
    "-> Substitute T(n -1) = (n - 1) T(n - 2)\n",
    "\n",
    "T(n) = n (n - 1) T(n - 2)\n",
    "\n",
    ".\n",
    ".\n",
    ".\n",
    "\n",
    "T(n) = n (n - 1) (n - 2) (n - 3) ... n! => O(n n!)\n",
    "\n",
    "```"
   ]
  },
  {
   "cell_type": "markdown",
   "id": "454f28a3",
   "metadata": {},
   "source": [
    "- Is this algorithm the optimal one to produce this output? If not, can you suggest a better algorithm to perform the same task?"
   ]
  },
  {
   "cell_type": "markdown",
   "id": "bd01721f",
   "metadata": {},
   "source": [
    "To generate all the permutation of a list of characters we need at least O(n n!) so we can say that the algorithm is optimal."
   ]
  },
  {
   "cell_type": "markdown",
   "id": "d1b757dc",
   "metadata": {},
   "source": [
    "# [AQ2] Considering the following problem, answer the questions:"
   ]
  },
  {
   "cell_type": "markdown",
   "id": "bc9f0a5c",
   "metadata": {},
   "source": [
    "Alex has a ribbon of length N. He wants to cut the ribbon in a way that fulfils the following three conditions:\n",
    "- Each piece of the cut should have an integer length\n",
    "- He should at least cut the ribbon once\n",
    "- The multiplication of the length of all the pieces be the maximum possible"
   ]
  },
  {
   "cell_type": "code",
   "execution_count": 109,
   "id": "0f4e7c72",
   "metadata": {},
   "outputs": [],
   "source": [
    "from matplotlib import pyplot as plt\n",
    "import time\n",
    "import pandas as pd"
   ]
  },
  {
   "cell_type": "markdown",
   "id": "8c237ca8",
   "metadata": {},
   "source": [
    "1. Implement a recursive algorithm to help Alex find the maximum possible value after multiplying the length of the pieces. Explain your algorithm in detail."
   ]
  },
  {
   "cell_type": "code",
   "execution_count": 110,
   "id": "12185946",
   "metadata": {},
   "outputs": [],
   "source": [
    "def recursive_max_product(n):\n",
    "\n",
    "    # Base cases that end the recursion\n",
    "    if n == 0 or n == 1:\n",
    "        return 0\n",
    "\n",
    "    # Initialization of the max value\n",
    "    max_value = 0\n",
    "    \n",
    "    '''\n",
    "    For every iteration we consider two options whether to make a cut or no:\n",
    "     we calculate the result for both cases and find the max value between them and the last calculated max value.\n",
    "    '''\n",
    "    for i in range(1, n - 1):\n",
    "        \n",
    "        # Cut at different points and take the maximum\n",
    "        max_value = max(max_value, max(i * (n - i), recursive_max_product(n - i) * i))\n",
    "\n",
    "    return max_value"
   ]
  },
  {
   "cell_type": "markdown",
   "id": "4b4650f2",
   "metadata": {},
   "source": [
    "2. Show that the algorithm has exponential running time."
   ]
  },
  {
   "cell_type": "markdown",
   "id": "b0f806e0",
   "metadata": {},
   "source": [
    "There are 2^(n-1) ways to cut the ribbon. \n",
    "\n",
    "For example for n = 3 we have 2^(3-1) = 4 ways:\n",
    "\n",
    "| positions | product |\n",
    "|-----------|---------|\n",
    "| 1         | 2       |\n",
    "| 1, 2      | 1       |\n",
    "| 2, 1      | 1       |\n",
    "| 1, 2      | 2       |\n",
    "\n",
    "Since this method follows a top down approeach which calculates the product foer every single combination the complexity of the algorithm is O(2^n)"
   ]
  },
  {
   "cell_type": "markdown",
   "id": "118f9a57",
   "metadata": {},
   "source": [
    "3. Now provide a polynomial solution, based on dynamic programming, and compute its running-time complexity."
   ]
  },
  {
   "cell_type": "code",
   "execution_count": 111,
   "id": "b7eeeb12",
   "metadata": {},
   "outputs": [],
   "source": [
    "def dynamic_max_product(n):\n",
    "    value = [0 for i in range(n + 1)]\n",
    "\n",
    "    # Build the table value using a bottom up approeach\n",
    "    for i in range(1, n + 1):\n",
    "        max_value = 0\n",
    "        \n",
    "        for j in range(1, i):\n",
    "            max_value = max(max_value, (i - j) * j, j * value[i - j])\n",
    "        value[i] = max_value\n",
    "    \n",
    "    # Return the last entry from the table\n",
    "    return value[n]"
   ]
  },
  {
   "cell_type": "markdown",
   "id": "c4ebe79b",
   "metadata": {},
   "source": [
    "```\n",
    "T(n) = n + n ( 1 + n + 1) + 1\n",
    "\n",
    "T(n) = n + n ( n + 2) + 1\n",
    "\n",
    "T(n) = n + n^2 + 2n + 1\n",
    "\n",
    "T(n) = n^2 + 3n + 1\n",
    "\n",
    "```"
   ]
  },
  {
   "cell_type": "markdown",
   "id": "5aca28eb",
   "metadata": {},
   "source": [
    "4. Evaluate the running time of your algorithm for the sizes (Ns) in the range of [2, 25], plot the results, and interpret it (if you have implemented two algorithms, please include both in the plot and compare them)."
   ]
  },
  {
   "cell_type": "code",
   "execution_count": 112,
   "id": "4169f05e",
   "metadata": {},
   "outputs": [],
   "source": [
    "def stopwatch(function_name, parameter):\n",
    "    t = time.process_time()\n",
    "\n",
    "    function_name(parameter)\n",
    "\n",
    "    return time.process_time() - t"
   ]
  },
  {
   "cell_type": "code",
   "execution_count": 113,
   "id": "143bd908",
   "metadata": {},
   "outputs": [],
   "source": [
    "timings = pd.DataFrame(columns=['n', 'recursive', 'dynamic'])\n",
    "\n",
    "for n in range(2, 25):\n",
    "    t1 = stopwatch(recursive_max_product, n)\n",
    "    t2 = stopwatch(dynamic_max_product, n)\n",
    "\n",
    "    row = pd.DataFrame([{'n': n, 'recursive': t1, 'dynamic': t2}], columns=['n', 'recursive', 'dynamic'])\n",
    "    timings = pd.concat([timings, row])"
   ]
  },
  {
   "cell_type": "code",
   "execution_count": 114,
   "id": "57d30521",
   "metadata": {},
   "outputs": [
    {
     "data": {
      "image/png": "[encoded data removed]",
      "text/plain": [
       "<Figure size 432x288 with 1 Axes>"
      ]
     },
     "metadata": {
      "needs_background": "light"
     },
     "output_type": "display_data"
    }
   ],
   "source": [
    "plt.plot(timings['n'], timings['recursive'], label=\"recursive\")\n",
    "plt.plot(timings['n'], timings['dynamic'], label=\"dynamic\")\n",
    "plt.legend()\n",
    "plt.show()"
   ]
  }
 ],
 "metadata": {
  "kernelspec": {
   "display_name": "conda_python3",
   "language": "python",
   "name": "conda_python3"
  },
  "language_info": {
   "codemirror_mode": {
    "name": "ipython",
    "version": 3
   },
   "file_extension": ".py",
   "mimetype": "text/x-python",
   "name": "python",
   "nbconvert_exporter": "python",
   "pygments_lexer": "ipython3",
   "version": "3.8.12"
  }
 },
 "nbformat": 4,
 "nbformat_minor": 5
}
